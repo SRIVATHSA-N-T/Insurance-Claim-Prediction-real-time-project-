{
  "nbformat": 4,
  "nbformat_minor": 0,
  "metadata": {
    "colab": {
      "provenance": []
    },
    "kernelspec": {
      "name": "python3",
      "display_name": "Python 3"
    },
    "language_info": {
      "name": "python"
    }
  },
  "cells": [
    {
      "cell_type": "markdown",
      "source": [
        "# ***`Insurance Claim Prediction`***\n",
        "\n",
        "\n",
        "\n",
        "\n",
        "Predict whether the policyholder will file a claim in the next 6 months or not. \n"
      ],
      "metadata": {
        "id": "saXTp8kVPoem"
      }
    },
    {
      "cell_type": "markdown",
      "source": [
        "\n",
        "\n",
        "# *** Problem Statement***"
      ],
      "metadata": {
        "id": "pRNPdJlusUpT"
      }
    },
    {
      "cell_type": "markdown",
      "source": [
        "* CarIns is a startup that provides insurance for cars. It is one of the best car insurance brands known for the highest claim settlement ratio. It was launched back in Oct 2020 and acquired its initial policyholders by providing a hassle-free claim process, instant policy issuance, and claim settlements at minimum coverages.\n",
        "\n",
        "\n",
        "\n",
        "* As it's a fast growing startup, the company would like to optimize the cost of the insurance by identifying the policyholders who are more likely to claim in the next 6 months. \n",
        "\n",
        "\n",
        "* Now the company would like to use Data Science to identify the policyholders whose chances of filing a claim are high in the next 6 months. The company challenges the Data Science community to build a high-performance algorithm to predict if the policyholder will file a claim in the next 6 months or not based on the set of car and policy features."
      ],
      "metadata": {
        "id": "dHdZMRtcsbI7"
      }
    },
    {
      "cell_type": "code",
      "source": [
        "#import Neccessory libraries\n",
        "import pandas as pd\n",
        "import numpy as np\n",
        "import matplotlib.pyplot as plt\n",
        "import seaborn as sns\n",
        "import missingno\n",
        "\n",
        "from sklearn.preprocessing import StandardScaler\n",
        "\n",
        "from sklearn.model_selection import train_test_split, GridSearchCV\n",
        "\n",
        "#import required accuracy metrics\n",
        "from sklearn.metrics import accuracy_score, confusion_matrix, classification_report\n",
        "from sklearn.metrics import roc_curve, roc_auc_score\n",
        "from sklearn.model_selection import KFold, cross_val_score\n",
        "\n",
        "import warnings\n",
        "warnings.filterwarnings('ignore')\n",
        "%matplotlib inline"
      ],
      "metadata": {
        "id": "-G6kWtQGPwXM"
      },
      "execution_count": null,
      "outputs": []
    },
    {
      "cell_type": "code",
      "source": [
        "#loading the data set\n",
        "df = pd.read_csv(r\"/content/train.csv\")\n",
        "df.head(5)"
      ],
      "metadata": {
        "colab": {
          "base_uri": "https://localhost:8080/",
          "height": 299
        },
        "id": "ku3n_K2gQNkF",
        "outputId": "2ef94fb2-4660-4a8b-e551-ed4fd360b88e"
      },
      "execution_count": null,
      "outputs": [
        {
          "output_type": "execute_result",
          "data": {
            "text/plain": [
              "  policy_id  policy_tenure  age_of_car  age_of_policyholder area_cluster  \\\n",
              "0   ID00001       0.515874        0.05             0.644231           C1   \n",
              "1   ID00002       0.672619        0.02             0.375000           C2   \n",
              "2   ID00003       0.841110        0.02             0.384615           C3   \n",
              "3   ID00004       0.900277        0.11             0.432692           C4   \n",
              "4   ID00005       0.596403        0.11             0.634615           C5   \n",
              "\n",
              "   population_density  make segment model fuel_type  ... is_brake_assist  \\\n",
              "0                4990     1       A    M1       CNG  ...              No   \n",
              "1               27003     1       A    M1       CNG  ...              No   \n",
              "2                4076     1       A    M1       CNG  ...              No   \n",
              "3               21622     1      C1    M2    Petrol  ...             Yes   \n",
              "4               34738     2       A    M3    Petrol  ...              No   \n",
              "\n",
              "  is_power_door_locks is_central_locking  is_power_steering  \\\n",
              "0                  No                 No                Yes   \n",
              "1                  No                 No                Yes   \n",
              "2                  No                 No                Yes   \n",
              "3                 Yes                Yes                Yes   \n",
              "4                 Yes                Yes                Yes   \n",
              "\n",
              "  is_driver_seat_height_adjustable is_day_night_rear_view_mirror is_ecw  \\\n",
              "0                               No                            No     No   \n",
              "1                               No                            No     No   \n",
              "2                               No                            No     No   \n",
              "3                              Yes                           Yes    Yes   \n",
              "4                               No                           Yes    Yes   \n",
              "\n",
              "  is_speed_alert ncap_rating is_claim  \n",
              "0            Yes           0        0  \n",
              "1            Yes           0        0  \n",
              "2            Yes           0        0  \n",
              "3            Yes           2        0  \n",
              "4            Yes           2        0  \n",
              "\n",
              "[5 rows x 44 columns]"
            ],
            "text/html": [
              "\n",
              "  <div id=\"df-14ce39d5-4572-4eab-b754-5a610d1838ed\">\n",
              "    <div class=\"colab-df-container\">\n",
              "      <div>\n",
              "<style scoped>\n",
              "    .dataframe tbody tr th:only-of-type {\n",
              "        vertical-align: middle;\n",
              "    }\n",
              "\n",
              "    .dataframe tbody tr th {\n",
              "        vertical-align: top;\n",
              "    }\n",
              "\n",
              "    .dataframe thead th {\n",
              "        text-align: right;\n",
              "    }\n",
              "</style>\n",
              "<table border=\"1\" class=\"dataframe\">\n",
              "  <thead>\n",
              "    <tr style=\"text-align: right;\">\n",
              "      <th></th>\n",
              "      <th>policy_id</th>\n",
              "      <th>policy_tenure</th>\n",
              "      <th>age_of_car</th>\n",
              "      <th>age_of_policyholder</th>\n",
              "      <th>area_cluster</th>\n",
              "      <th>population_density</th>\n",
              "      <th>make</th>\n",
              "      <th>segment</th>\n",
              "      <th>model</th>\n",
              "      <th>fuel_type</th>\n",
              "      <th>...</th>\n",
              "      <th>is_brake_assist</th>\n",
              "      <th>is_power_door_locks</th>\n",
              "      <th>is_central_locking</th>\n",
              "      <th>is_power_steering</th>\n",
              "      <th>is_driver_seat_height_adjustable</th>\n",
              "      <th>is_day_night_rear_view_mirror</th>\n",
              "      <th>is_ecw</th>\n",
              "      <th>is_speed_alert</th>\n",
              "      <th>ncap_rating</th>\n",
              "      <th>is_claim</th>\n",
              "    </tr>\n",
              "  </thead>\n",
              "  <tbody>\n",
              "    <tr>\n",
              "      <th>0</th>\n",
              "      <td>ID00001</td>\n",
              "      <td>0.515874</td>\n",
              "      <td>0.05</td>\n",
              "      <td>0.644231</td>\n",
              "      <td>C1</td>\n",
              "      <td>4990</td>\n",
              "      <td>1</td>\n",
              "      <td>A</td>\n",
              "      <td>M1</td>\n",
              "      <td>CNG</td>\n",
              "      <td>...</td>\n",
              "      <td>No</td>\n",
              "      <td>No</td>\n",
              "      <td>No</td>\n",
              "      <td>Yes</td>\n",
              "      <td>No</td>\n",
              "      <td>No</td>\n",
              "      <td>No</td>\n",
              "      <td>Yes</td>\n",
              "      <td>0</td>\n",
              "      <td>0</td>\n",
              "    </tr>\n",
              "    <tr>\n",
              "      <th>1</th>\n",
              "      <td>ID00002</td>\n",
              "      <td>0.672619</td>\n",
              "      <td>0.02</td>\n",
              "      <td>0.375000</td>\n",
              "      <td>C2</td>\n",
              "      <td>27003</td>\n",
              "      <td>1</td>\n",
              "      <td>A</td>\n",
              "      <td>M1</td>\n",
              "      <td>CNG</td>\n",
              "      <td>...</td>\n",
              "      <td>No</td>\n",
              "      <td>No</td>\n",
              "      <td>No</td>\n",
              "      <td>Yes</td>\n",
              "      <td>No</td>\n",
              "      <td>No</td>\n",
              "      <td>No</td>\n",
              "      <td>Yes</td>\n",
              "      <td>0</td>\n",
              "      <td>0</td>\n",
              "    </tr>\n",
              "    <tr>\n",
              "      <th>2</th>\n",
              "      <td>ID00003</td>\n",
              "      <td>0.841110</td>\n",
              "      <td>0.02</td>\n",
              "      <td>0.384615</td>\n",
              "      <td>C3</td>\n",
              "      <td>4076</td>\n",
              "      <td>1</td>\n",
              "      <td>A</td>\n",
              "      <td>M1</td>\n",
              "      <td>CNG</td>\n",
              "      <td>...</td>\n",
              "      <td>No</td>\n",
              "      <td>No</td>\n",
              "      <td>No</td>\n",
              "      <td>Yes</td>\n",
              "      <td>No</td>\n",
              "      <td>No</td>\n",
              "      <td>No</td>\n",
              "      <td>Yes</td>\n",
              "      <td>0</td>\n",
              "      <td>0</td>\n",
              "    </tr>\n",
              "    <tr>\n",
              "      <th>3</th>\n",
              "      <td>ID00004</td>\n",
              "      <td>0.900277</td>\n",
              "      <td>0.11</td>\n",
              "      <td>0.432692</td>\n",
              "      <td>C4</td>\n",
              "      <td>21622</td>\n",
              "      <td>1</td>\n",
              "      <td>C1</td>\n",
              "      <td>M2</td>\n",
              "      <td>Petrol</td>\n",
              "      <td>...</td>\n",
              "      <td>Yes</td>\n",
              "      <td>Yes</td>\n",
              "      <td>Yes</td>\n",
              "      <td>Yes</td>\n",
              "      <td>Yes</td>\n",
              "      <td>Yes</td>\n",
              "      <td>Yes</td>\n",
              "      <td>Yes</td>\n",
              "      <td>2</td>\n",
              "      <td>0</td>\n",
              "    </tr>\n",
              "    <tr>\n",
              "      <th>4</th>\n",
              "      <td>ID00005</td>\n",
              "      <td>0.596403</td>\n",
              "      <td>0.11</td>\n",
              "      <td>0.634615</td>\n",
              "      <td>C5</td>\n",
              "      <td>34738</td>\n",
              "      <td>2</td>\n",
              "      <td>A</td>\n",
              "      <td>M3</td>\n",
              "      <td>Petrol</td>\n",
              "      <td>...</td>\n",
              "      <td>No</td>\n",
              "      <td>Yes</td>\n",
              "      <td>Yes</td>\n",
              "      <td>Yes</td>\n",
              "      <td>No</td>\n",
              "      <td>Yes</td>\n",
              "      <td>Yes</td>\n",
              "      <td>Yes</td>\n",
              "      <td>2</td>\n",
              "      <td>0</td>\n",
              "    </tr>\n",
              "  </tbody>\n",
              "</table>\n",
              "<p>5 rows × 44 columns</p>\n",
              "</div>\n",
              "      <button class=\"colab-df-convert\" onclick=\"convertToInteractive('df-14ce39d5-4572-4eab-b754-5a610d1838ed')\"\n",
              "              title=\"Convert this dataframe to an interactive table.\"\n",
              "              style=\"display:none;\">\n",
              "        \n",
              "  <svg xmlns=\"http://www.w3.org/2000/svg\" height=\"24px\"viewBox=\"0 0 24 24\"\n",
              "       width=\"24px\">\n",
              "    <path d=\"M0 0h24v24H0V0z\" fill=\"none\"/>\n",
              "    <path d=\"M18.56 5.44l.94 2.06.94-2.06 2.06-.94-2.06-.94-.94-2.06-.94 2.06-2.06.94zm-11 1L8.5 8.5l.94-2.06 2.06-.94-2.06-.94L8.5 2.5l-.94 2.06-2.06.94zm10 10l.94 2.06.94-2.06 2.06-.94-2.06-.94-.94-2.06-.94 2.06-2.06.94z\"/><path d=\"M17.41 7.96l-1.37-1.37c-.4-.4-.92-.59-1.43-.59-.52 0-1.04.2-1.43.59L10.3 9.45l-7.72 7.72c-.78.78-.78 2.05 0 2.83L4 21.41c.39.39.9.59 1.41.59.51 0 1.02-.2 1.41-.59l7.78-7.78 2.81-2.81c.8-.78.8-2.07 0-2.86zM5.41 20L4 18.59l7.72-7.72 1.47 1.35L5.41 20z\"/>\n",
              "  </svg>\n",
              "      </button>\n",
              "      \n",
              "  <style>\n",
              "    .colab-df-container {\n",
              "      display:flex;\n",
              "      flex-wrap:wrap;\n",
              "      gap: 12px;\n",
              "    }\n",
              "\n",
              "    .colab-df-convert {\n",
              "      background-color: #E8F0FE;\n",
              "      border: none;\n",
              "      border-radius: 50%;\n",
              "      cursor: pointer;\n",
              "      display: none;\n",
              "      fill: #1967D2;\n",
              "      height: 32px;\n",
              "      padding: 0 0 0 0;\n",
              "      width: 32px;\n",
              "    }\n",
              "\n",
              "    .colab-df-convert:hover {\n",
              "      background-color: #E2EBFA;\n",
              "      box-shadow: 0px 1px 2px rgba(60, 64, 67, 0.3), 0px 1px 3px 1px rgba(60, 64, 67, 0.15);\n",
              "      fill: #174EA6;\n",
              "    }\n",
              "\n",
              "    [theme=dark] .colab-df-convert {\n",
              "      background-color: #3B4455;\n",
              "      fill: #D2E3FC;\n",
              "    }\n",
              "\n",
              "    [theme=dark] .colab-df-convert:hover {\n",
              "      background-color: #434B5C;\n",
              "      box-shadow: 0px 1px 3px 1px rgba(0, 0, 0, 0.15);\n",
              "      filter: drop-shadow(0px 1px 2px rgba(0, 0, 0, 0.3));\n",
              "      fill: #FFFFFF;\n",
              "    }\n",
              "  </style>\n",
              "\n",
              "      <script>\n",
              "        const buttonEl =\n",
              "          document.querySelector('#df-14ce39d5-4572-4eab-b754-5a610d1838ed button.colab-df-convert');\n",
              "        buttonEl.style.display =\n",
              "          google.colab.kernel.accessAllowed ? 'block' : 'none';\n",
              "\n",
              "        async function convertToInteractive(key) {\n",
              "          const element = document.querySelector('#df-14ce39d5-4572-4eab-b754-5a610d1838ed');\n",
              "          const dataTable =\n",
              "            await google.colab.kernel.invokeFunction('convertToInteractive',\n",
              "                                                     [key], {});\n",
              "          if (!dataTable) return;\n",
              "\n",
              "          const docLinkHtml = 'Like what you see? Visit the ' +\n",
              "            '<a target=\"_blank\" href=https://colab.research.google.com/notebooks/data_table.ipynb>data table notebook</a>'\n",
              "            + ' to learn more about interactive tables.';\n",
              "          element.innerHTML = '';\n",
              "          dataTable['output_type'] = 'display_data';\n",
              "          await google.colab.output.renderOutput(dataTable, element);\n",
              "          const docLink = document.createElement('div');\n",
              "          docLink.innerHTML = docLinkHtml;\n",
              "          element.appendChild(docLink);\n",
              "        }\n",
              "      </script>\n",
              "    </div>\n",
              "  </div>\n",
              "  "
            ]
          },
          "metadata": {},
          "execution_count": 69
        }
      ]
    },
    {
      "cell_type": "code",
      "source": [
        "#lets check the shape \n",
        "print('Shape of train dataset:',df.shape)"
      ],
      "metadata": {
        "colab": {
          "base_uri": "https://localhost:8080/"
        },
        "id": "C55D3hfnQp8A",
        "outputId": "3ee158dd-66f0-4ac5-8aa1-2e7617d2fc2d"
      },
      "execution_count": null,
      "outputs": [
        {
          "output_type": "stream",
          "name": "stdout",
          "text": [
            "Shape of train dataset: (58592, 44)\n"
          ]
        }
      ]
    },
    {
      "cell_type": "code",
      "source": [
        "#check the data types\n",
        "df.dtypes"
      ],
      "metadata": {
        "colab": {
          "base_uri": "https://localhost:8080/"
        },
        "id": "eOFY0rdeQqGg",
        "outputId": "81e92e15-5f20-4154-bed8-b135c0139875"
      },
      "execution_count": null,
      "outputs": [
        {
          "output_type": "execute_result",
          "data": {
            "text/plain": [
              "policy_id                            object\n",
              "policy_tenure                       float64\n",
              "age_of_car                          float64\n",
              "age_of_policyholder                 float64\n",
              "area_cluster                         object\n",
              "population_density                    int64\n",
              "make                                  int64\n",
              "segment                              object\n",
              "model                                object\n",
              "fuel_type                            object\n",
              "max_torque                           object\n",
              "max_power                            object\n",
              "engine_type                          object\n",
              "airbags                               int64\n",
              "is_esc                               object\n",
              "is_adjustable_steering               object\n",
              "is_tpms                              object\n",
              "is_parking_sensors                   object\n",
              "is_parking_camera                    object\n",
              "rear_brakes_type                     object\n",
              "displacement                          int64\n",
              "cylinder                              int64\n",
              "transmission_type                    object\n",
              "gear_box                              int64\n",
              "steering_type                        object\n",
              "turning_radius                      float64\n",
              "length                                int64\n",
              "width                                 int64\n",
              "height                                int64\n",
              "gross_weight                          int64\n",
              "is_front_fog_lights                  object\n",
              "is_rear_window_wiper                 object\n",
              "is_rear_window_washer                object\n",
              "is_rear_window_defogger              object\n",
              "is_brake_assist                      object\n",
              "is_power_door_locks                  object\n",
              "is_central_locking                   object\n",
              "is_power_steering                    object\n",
              "is_driver_seat_height_adjustable     object\n",
              "is_day_night_rear_view_mirror        object\n",
              "is_ecw                               object\n",
              "is_speed_alert                       object\n",
              "ncap_rating                           int64\n",
              "is_claim                              int64\n",
              "dtype: object"
            ]
          },
          "metadata": {},
          "execution_count": 71
        }
      ]
    },
    {
      "cell_type": "code",
      "source": [
        "#lets check for Null Values\n",
        "df.isnull().sum()"
      ],
      "metadata": {
        "colab": {
          "base_uri": "https://localhost:8080/"
        },
        "id": "E0YEWppYQqJb",
        "outputId": "eaa9f7f1-5dcb-4260-8ac5-de69e2c6114a"
      },
      "execution_count": null,
      "outputs": [
        {
          "output_type": "execute_result",
          "data": {
            "text/plain": [
              "policy_id                           0\n",
              "policy_tenure                       0\n",
              "age_of_car                          0\n",
              "age_of_policyholder                 0\n",
              "area_cluster                        0\n",
              "population_density                  0\n",
              "make                                0\n",
              "segment                             0\n",
              "model                               0\n",
              "fuel_type                           0\n",
              "max_torque                          0\n",
              "max_power                           0\n",
              "engine_type                         0\n",
              "airbags                             0\n",
              "is_esc                              0\n",
              "is_adjustable_steering              0\n",
              "is_tpms                             0\n",
              "is_parking_sensors                  0\n",
              "is_parking_camera                   0\n",
              "rear_brakes_type                    0\n",
              "displacement                        0\n",
              "cylinder                            0\n",
              "transmission_type                   0\n",
              "gear_box                            0\n",
              "steering_type                       0\n",
              "turning_radius                      0\n",
              "length                              0\n",
              "width                               0\n",
              "height                              0\n",
              "gross_weight                        0\n",
              "is_front_fog_lights                 0\n",
              "is_rear_window_wiper                0\n",
              "is_rear_window_washer               0\n",
              "is_rear_window_defogger             0\n",
              "is_brake_assist                     0\n",
              "is_power_door_locks                 0\n",
              "is_central_locking                  0\n",
              "is_power_steering                   0\n",
              "is_driver_seat_height_adjustable    0\n",
              "is_day_night_rear_view_mirror       0\n",
              "is_ecw                              0\n",
              "is_speed_alert                      0\n",
              "ncap_rating                         0\n",
              "is_claim                            0\n",
              "dtype: int64"
            ]
          },
          "metadata": {},
          "execution_count": 72
        }
      ]
    },
    {
      "cell_type": "code",
      "source": [
        "df.drop(columns = 'policy_id', inplace = True)"
      ],
      "metadata": {
        "id": "9I9nDRcnQqPB"
      },
      "execution_count": null,
      "outputs": []
    },
    {
      "cell_type": "code",
      "source": [
        "df.head(2)"
      ],
      "metadata": {
        "colab": {
          "base_uri": "https://localhost:8080/",
          "height": 205
        },
        "id": "joPamq3vQqRn",
        "outputId": "0feb08f6-2e10-43bc-ccb9-74198cdc2f92"
      },
      "execution_count": null,
      "outputs": [
        {
          "output_type": "execute_result",
          "data": {
            "text/plain": [
              "   policy_tenure  age_of_car  age_of_policyholder area_cluster  \\\n",
              "0       0.515874        0.05             0.644231           C1   \n",
              "1       0.672619        0.02             0.375000           C2   \n",
              "\n",
              "   population_density  make segment model fuel_type    max_torque  ...  \\\n",
              "0                4990     1       A    M1       CNG  60Nm@3500rpm  ...   \n",
              "1               27003     1       A    M1       CNG  60Nm@3500rpm  ...   \n",
              "\n",
              "  is_brake_assist is_power_door_locks  is_central_locking is_power_steering  \\\n",
              "0              No                  No                  No               Yes   \n",
              "1              No                  No                  No               Yes   \n",
              "\n",
              "  is_driver_seat_height_adjustable is_day_night_rear_view_mirror is_ecw  \\\n",
              "0                               No                            No     No   \n",
              "1                               No                            No     No   \n",
              "\n",
              "  is_speed_alert ncap_rating  is_claim  \n",
              "0            Yes           0         0  \n",
              "1            Yes           0         0  \n",
              "\n",
              "[2 rows x 43 columns]"
            ],
            "text/html": [
              "\n",
              "  <div id=\"df-978cdda2-7d9a-41d3-b009-1fb0bb1bd65a\">\n",
              "    <div class=\"colab-df-container\">\n",
              "      <div>\n",
              "<style scoped>\n",
              "    .dataframe tbody tr th:only-of-type {\n",
              "        vertical-align: middle;\n",
              "    }\n",
              "\n",
              "    .dataframe tbody tr th {\n",
              "        vertical-align: top;\n",
              "    }\n",
              "\n",
              "    .dataframe thead th {\n",
              "        text-align: right;\n",
              "    }\n",
              "</style>\n",
              "<table border=\"1\" class=\"dataframe\">\n",
              "  <thead>\n",
              "    <tr style=\"text-align: right;\">\n",
              "      <th></th>\n",
              "      <th>policy_tenure</th>\n",
              "      <th>age_of_car</th>\n",
              "      <th>age_of_policyholder</th>\n",
              "      <th>area_cluster</th>\n",
              "      <th>population_density</th>\n",
              "      <th>make</th>\n",
              "      <th>segment</th>\n",
              "      <th>model</th>\n",
              "      <th>fuel_type</th>\n",
              "      <th>max_torque</th>\n",
              "      <th>...</th>\n",
              "      <th>is_brake_assist</th>\n",
              "      <th>is_power_door_locks</th>\n",
              "      <th>is_central_locking</th>\n",
              "      <th>is_power_steering</th>\n",
              "      <th>is_driver_seat_height_adjustable</th>\n",
              "      <th>is_day_night_rear_view_mirror</th>\n",
              "      <th>is_ecw</th>\n",
              "      <th>is_speed_alert</th>\n",
              "      <th>ncap_rating</th>\n",
              "      <th>is_claim</th>\n",
              "    </tr>\n",
              "  </thead>\n",
              "  <tbody>\n",
              "    <tr>\n",
              "      <th>0</th>\n",
              "      <td>0.515874</td>\n",
              "      <td>0.05</td>\n",
              "      <td>0.644231</td>\n",
              "      <td>C1</td>\n",
              "      <td>4990</td>\n",
              "      <td>1</td>\n",
              "      <td>A</td>\n",
              "      <td>M1</td>\n",
              "      <td>CNG</td>\n",
              "      <td>60Nm@3500rpm</td>\n",
              "      <td>...</td>\n",
              "      <td>No</td>\n",
              "      <td>No</td>\n",
              "      <td>No</td>\n",
              "      <td>Yes</td>\n",
              "      <td>No</td>\n",
              "      <td>No</td>\n",
              "      <td>No</td>\n",
              "      <td>Yes</td>\n",
              "      <td>0</td>\n",
              "      <td>0</td>\n",
              "    </tr>\n",
              "    <tr>\n",
              "      <th>1</th>\n",
              "      <td>0.672619</td>\n",
              "      <td>0.02</td>\n",
              "      <td>0.375000</td>\n",
              "      <td>C2</td>\n",
              "      <td>27003</td>\n",
              "      <td>1</td>\n",
              "      <td>A</td>\n",
              "      <td>M1</td>\n",
              "      <td>CNG</td>\n",
              "      <td>60Nm@3500rpm</td>\n",
              "      <td>...</td>\n",
              "      <td>No</td>\n",
              "      <td>No</td>\n",
              "      <td>No</td>\n",
              "      <td>Yes</td>\n",
              "      <td>No</td>\n",
              "      <td>No</td>\n",
              "      <td>No</td>\n",
              "      <td>Yes</td>\n",
              "      <td>0</td>\n",
              "      <td>0</td>\n",
              "    </tr>\n",
              "  </tbody>\n",
              "</table>\n",
              "<p>2 rows × 43 columns</p>\n",
              "</div>\n",
              "      <button class=\"colab-df-convert\" onclick=\"convertToInteractive('df-978cdda2-7d9a-41d3-b009-1fb0bb1bd65a')\"\n",
              "              title=\"Convert this dataframe to an interactive table.\"\n",
              "              style=\"display:none;\">\n",
              "        \n",
              "  <svg xmlns=\"http://www.w3.org/2000/svg\" height=\"24px\"viewBox=\"0 0 24 24\"\n",
              "       width=\"24px\">\n",
              "    <path d=\"M0 0h24v24H0V0z\" fill=\"none\"/>\n",
              "    <path d=\"M18.56 5.44l.94 2.06.94-2.06 2.06-.94-2.06-.94-.94-2.06-.94 2.06-2.06.94zm-11 1L8.5 8.5l.94-2.06 2.06-.94-2.06-.94L8.5 2.5l-.94 2.06-2.06.94zm10 10l.94 2.06.94-2.06 2.06-.94-2.06-.94-.94-2.06-.94 2.06-2.06.94z\"/><path d=\"M17.41 7.96l-1.37-1.37c-.4-.4-.92-.59-1.43-.59-.52 0-1.04.2-1.43.59L10.3 9.45l-7.72 7.72c-.78.78-.78 2.05 0 2.83L4 21.41c.39.39.9.59 1.41.59.51 0 1.02-.2 1.41-.59l7.78-7.78 2.81-2.81c.8-.78.8-2.07 0-2.86zM5.41 20L4 18.59l7.72-7.72 1.47 1.35L5.41 20z\"/>\n",
              "  </svg>\n",
              "      </button>\n",
              "      \n",
              "  <style>\n",
              "    .colab-df-container {\n",
              "      display:flex;\n",
              "      flex-wrap:wrap;\n",
              "      gap: 12px;\n",
              "    }\n",
              "\n",
              "    .colab-df-convert {\n",
              "      background-color: #E8F0FE;\n",
              "      border: none;\n",
              "      border-radius: 50%;\n",
              "      cursor: pointer;\n",
              "      display: none;\n",
              "      fill: #1967D2;\n",
              "      height: 32px;\n",
              "      padding: 0 0 0 0;\n",
              "      width: 32px;\n",
              "    }\n",
              "\n",
              "    .colab-df-convert:hover {\n",
              "      background-color: #E2EBFA;\n",
              "      box-shadow: 0px 1px 2px rgba(60, 64, 67, 0.3), 0px 1px 3px 1px rgba(60, 64, 67, 0.15);\n",
              "      fill: #174EA6;\n",
              "    }\n",
              "\n",
              "    [theme=dark] .colab-df-convert {\n",
              "      background-color: #3B4455;\n",
              "      fill: #D2E3FC;\n",
              "    }\n",
              "\n",
              "    [theme=dark] .colab-df-convert:hover {\n",
              "      background-color: #434B5C;\n",
              "      box-shadow: 0px 1px 3px 1px rgba(0, 0, 0, 0.15);\n",
              "      filter: drop-shadow(0px 1px 2px rgba(0, 0, 0, 0.3));\n",
              "      fill: #FFFFFF;\n",
              "    }\n",
              "  </style>\n",
              "\n",
              "      <script>\n",
              "        const buttonEl =\n",
              "          document.querySelector('#df-978cdda2-7d9a-41d3-b009-1fb0bb1bd65a button.colab-df-convert');\n",
              "        buttonEl.style.display =\n",
              "          google.colab.kernel.accessAllowed ? 'block' : 'none';\n",
              "\n",
              "        async function convertToInteractive(key) {\n",
              "          const element = document.querySelector('#df-978cdda2-7d9a-41d3-b009-1fb0bb1bd65a');\n",
              "          const dataTable =\n",
              "            await google.colab.kernel.invokeFunction('convertToInteractive',\n",
              "                                                     [key], {});\n",
              "          if (!dataTable) return;\n",
              "\n",
              "          const docLinkHtml = 'Like what you see? Visit the ' +\n",
              "            '<a target=\"_blank\" href=https://colab.research.google.com/notebooks/data_table.ipynb>data table notebook</a>'\n",
              "            + ' to learn more about interactive tables.';\n",
              "          element.innerHTML = '';\n",
              "          dataTable['output_type'] = 'display_data';\n",
              "          await google.colab.output.renderOutput(dataTable, element);\n",
              "          const docLink = document.createElement('div');\n",
              "          docLink.innerHTML = docLinkHtml;\n",
              "          element.appendChild(docLink);\n",
              "        }\n",
              "      </script>\n",
              "    </div>\n",
              "  </div>\n",
              "  "
            ]
          },
          "metadata": {},
          "execution_count": 74
        }
      ]
    },
    {
      "cell_type": "code",
      "source": [
        "#Lets check which columns contains '?'\n",
        "df[df.columns[(df == '?').any()]].nunique()\n"
      ],
      "metadata": {
        "colab": {
          "base_uri": "https://localhost:8080/"
        },
        "id": "b-XSNj0qQqX0",
        "outputId": "f182df11-8176-4599-a25d-1a665987e909"
      },
      "execution_count": null,
      "outputs": [
        {
          "output_type": "execute_result",
          "data": {
            "text/plain": [
              "Series([], dtype: float64)"
            ]
          },
          "metadata": {},
          "execution_count": 75
        }
      ]
    },
    {
      "cell_type": "code",
      "source": [
        "#Lets chcek the value counts for categorical data\n",
        "for i in df.columns:\n",
        "    if df[i].dtypes == 'int64':\n",
        "        print(df[i].value_counts())\n",
        "        print('---------'*10)"
      ],
      "metadata": {
        "colab": {
          "base_uri": "https://localhost:8080/"
        },
        "id": "G5qzArWYVCD3",
        "outputId": "42019ec2-301b-4a28-8753-9a29261e838a"
      },
      "execution_count": null,
      "outputs": [
        {
          "output_type": "stream",
          "name": "stdout",
          "text": [
            "8794     13654\n",
            "27003     7342\n",
            "34738     6979\n",
            "4076      6101\n",
            "7788      3660\n",
            "5410      3423\n",
            "73430     3155\n",
            "17804     2734\n",
            "6112      2167\n",
            "34791     1589\n",
            "4990      1468\n",
            "6108      1212\n",
            "27742      952\n",
            "13051      890\n",
            "290        771\n",
            "21622      665\n",
            "65567      492\n",
            "16206      401\n",
            "3264       379\n",
            "35036      242\n",
            "16733      207\n",
            "20905      109\n",
            "Name: population_density, dtype: int64\n",
            "------------------------------------------------------------------------------------------\n",
            "1    38126\n",
            "3    14018\n",
            "2     2373\n",
            "5     2114\n",
            "4     1961\n",
            "Name: make, dtype: int64\n",
            "------------------------------------------------------------------------------------------\n",
            "2    40425\n",
            "6    16958\n",
            "1     1209\n",
            "Name: airbags, dtype: int64\n",
            "------------------------------------------------------------------------------------------\n",
            "1197    17796\n",
            "796     14948\n",
            "1493    14018\n",
            "998      4173\n",
            "999      2373\n",
            "1498     2114\n",
            "1497     1598\n",
            "1196     1209\n",
            "1199      363\n",
            "Name: displacement, dtype: int64\n",
            "------------------------------------------------------------------------------------------\n",
            "4    36735\n",
            "3    21857\n",
            "Name: cylinder, dtype: int64\n",
            "------------------------------------------------------------------------------------------\n",
            "5    44211\n",
            "6    14381\n",
            "Name: gear_box, dtype: int64\n",
            "------------------------------------------------------------------------------------------\n",
            "3445    14948\n",
            "4300    14018\n",
            "3845    13776\n",
            "3990     4538\n",
            "3655     4173\n",
            "3995     3194\n",
            "3731     2373\n",
            "3675     1209\n",
            "3993      363\n",
            "Name: length, dtype: int64\n",
            "------------------------------------------------------------------------------------------\n",
            "1515    14948\n",
            "1735    14856\n",
            "1790    14018\n",
            "1620     4173\n",
            "1745     2940\n",
            "1579     2373\n",
            "1695     2114\n",
            "1755     1598\n",
            "1475     1209\n",
            "1811      363\n",
            "Name: width, dtype: int64\n",
            "------------------------------------------------------------------------------------------\n",
            "1475    14948\n",
            "1635    14018\n",
            "1530    13776\n",
            "1675     4173\n",
            "1500     2940\n",
            "1490     2373\n",
            "1501     2114\n",
            "1523     1598\n",
            "1825     1209\n",
            "1515     1080\n",
            "1606      363\n",
            "Name: height, dtype: int64\n",
            "------------------------------------------------------------------------------------------\n",
            "1185    14948\n",
            "1335    14856\n",
            "1720    14018\n",
            "1340     4173\n",
            "1410     2940\n",
            "1155     2373\n",
            "1051     2114\n",
            "1490     1598\n",
            "1510     1209\n",
            "1660      363\n",
            "Name: gross_weight, dtype: int64\n",
            "------------------------------------------------------------------------------------------\n",
            "2    21402\n",
            "0    19097\n",
            "3    14018\n",
            "4     2114\n",
            "5     1961\n",
            "Name: ncap_rating, dtype: int64\n",
            "------------------------------------------------------------------------------------------\n",
            "0    54844\n",
            "1     3748\n",
            "Name: is_claim, dtype: int64\n",
            "------------------------------------------------------------------------------------------\n"
          ]
        }
      ]
    },
    {
      "cell_type": "code",
      "source": [
        "#Lets chcek the value counts for categorical data\n",
        "for i in df.columns:\n",
        "    if df[i].dtypes == 'object':\n",
        "        print(df[i].value_counts())\n",
        "        print('---------'*10)"
      ],
      "metadata": {
        "colab": {
          "base_uri": "https://localhost:8080/"
        },
        "id": "A1qSsAFGQqbb",
        "outputId": "53e3f200-c0cb-4b0f-d0bb-ffae4cf48523"
      },
      "execution_count": null,
      "outputs": [
        {
          "output_type": "stream",
          "name": "stdout",
          "text": [
            "C8     13654\n",
            "C2      7342\n",
            "C5      6979\n",
            "C3      6101\n",
            "C14     3660\n",
            "C13     3423\n",
            "C10     3155\n",
            "C9      2734\n",
            "C7      2167\n",
            "C12     1589\n",
            "C1      1468\n",
            "C11     1212\n",
            "C19      952\n",
            "C6       890\n",
            "C15      771\n",
            "C4       665\n",
            "C17      492\n",
            "C16      401\n",
            "C21      379\n",
            "C18      242\n",
            "C22      207\n",
            "C20      109\n",
            "Name: area_cluster, dtype: int64\n",
            "------------------------------------------------------------------------------------------\n",
            "B2         18314\n",
            "A          17321\n",
            "C2         14018\n",
            "B1          4173\n",
            "C1          3557\n",
            "Utility     1209\n",
            "Name: segment, dtype: int64\n",
            "------------------------------------------------------------------------------------------\n",
            "M1     14948\n",
            "M4     14018\n",
            "M6     13776\n",
            "M8      4173\n",
            "M7      2940\n",
            "M3      2373\n",
            "M9      2114\n",
            "M5      1598\n",
            "M10     1209\n",
            "M2      1080\n",
            "M11      363\n",
            "Name: model, dtype: int64\n",
            "------------------------------------------------------------------------------------------\n",
            "Petrol    20532\n",
            "CNG       20330\n",
            "Diesel    17730\n",
            "Name: fuel_type, dtype: int64\n",
            "------------------------------------------------------------------------------------------\n",
            "113Nm@4400rpm     17796\n",
            "60Nm@3500rpm      14948\n",
            "250Nm@2750rpm     14018\n",
            "82.1Nm@3400rpm     4173\n",
            "91Nm@4250rpm       2373\n",
            "200Nm@1750rpm      2114\n",
            "200Nm@3000rpm      1598\n",
            "85Nm@3000rpm       1209\n",
            "170Nm@4000rpm       363\n",
            "Name: max_torque, dtype: int64\n",
            "------------------------------------------------------------------------------------------\n",
            "88.50bhp@6000rpm     17796\n",
            "40.36bhp@6000rpm     14948\n",
            "113.45bhp@4000rpm    14018\n",
            "55.92bhp@5300rpm      4173\n",
            "67.06bhp@5500rpm      2373\n",
            "97.89bhp@3600rpm      2114\n",
            "88.77bhp@4000rpm      1598\n",
            "61.68bhp@6000rpm      1209\n",
            "118.36bhp@5500rpm      363\n",
            "Name: max_power, dtype: int64\n",
            "------------------------------------------------------------------------------------------\n",
            "F8D Petrol Engine            14948\n",
            "1.5 L U2 CRDi                14018\n",
            "K Series Dual jet            13776\n",
            "K10C                          4173\n",
            "1.2 L K Series Engine         2940\n",
            "1.0 SCe                       2373\n",
            "i-DTEC                        2114\n",
            "1.5 Turbocharged Revotorq     1598\n",
            "G12B                          1209\n",
            "1.2 L K12N Dualjet            1080\n",
            "1.5 Turbocharged Revotron      363\n",
            "Name: engine_type, dtype: int64\n",
            "------------------------------------------------------------------------------------------\n",
            "No     40191\n",
            "Yes    18401\n",
            "Name: is_esc, dtype: int64\n",
            "------------------------------------------------------------------------------------------\n",
            "Yes    35526\n",
            "No     23066\n",
            "Name: is_adjustable_steering, dtype: int64\n",
            "------------------------------------------------------------------------------------------\n",
            "No     44574\n",
            "Yes    14018\n",
            "Name: is_tpms, dtype: int64\n",
            "------------------------------------------------------------------------------------------\n",
            "Yes    56219\n",
            "No      2373\n",
            "Name: is_parking_sensors, dtype: int64\n",
            "------------------------------------------------------------------------------------------\n",
            "No     35704\n",
            "Yes    22888\n",
            "Name: is_parking_camera, dtype: int64\n",
            "------------------------------------------------------------------------------------------\n",
            "Drum    44574\n",
            "Disc    14018\n",
            "Name: rear_brakes_type, dtype: int64\n",
            "------------------------------------------------------------------------------------------\n",
            "Manual       38181\n",
            "Automatic    20411\n",
            "Name: transmission_type, dtype: int64\n",
            "------------------------------------------------------------------------------------------\n",
            "Power       33502\n",
            "Electric    23881\n",
            "Manual       1209\n",
            "Name: steering_type, dtype: int64\n",
            "------------------------------------------------------------------------------------------\n",
            "Yes    33928\n",
            "No     24664\n",
            "Name: is_front_fog_lights, dtype: int64\n",
            "------------------------------------------------------------------------------------------\n",
            "No     41634\n",
            "Yes    16958\n",
            "Name: is_rear_window_wiper, dtype: int64\n",
            "------------------------------------------------------------------------------------------\n",
            "No     41634\n",
            "Yes    16958\n",
            "Name: is_rear_window_washer, dtype: int64\n",
            "------------------------------------------------------------------------------------------\n",
            "No     38077\n",
            "Yes    20515\n",
            "Name: is_rear_window_defogger, dtype: int64\n",
            "------------------------------------------------------------------------------------------\n",
            "Yes    32177\n",
            "No     26415\n",
            "Name: is_brake_assist, dtype: int64\n",
            "------------------------------------------------------------------------------------------\n",
            "Yes    42435\n",
            "No     16157\n",
            "Name: is_power_door_locks, dtype: int64\n",
            "------------------------------------------------------------------------------------------\n",
            "Yes    42435\n",
            "No     16157\n",
            "Name: is_central_locking, dtype: int64\n",
            "------------------------------------------------------------------------------------------\n",
            "Yes    57383\n",
            "No      1209\n",
            "Name: is_power_steering, dtype: int64\n",
            "------------------------------------------------------------------------------------------\n",
            "Yes    34291\n",
            "No     24301\n",
            "Name: is_driver_seat_height_adjustable, dtype: int64\n",
            "------------------------------------------------------------------------------------------\n",
            "No     36309\n",
            "Yes    22283\n",
            "Name: is_day_night_rear_view_mirror, dtype: int64\n",
            "------------------------------------------------------------------------------------------\n",
            "Yes    42435\n",
            "No     16157\n",
            "Name: is_ecw, dtype: int64\n",
            "------------------------------------------------------------------------------------------\n",
            "Yes    58229\n",
            "No       363\n",
            "Name: is_speed_alert, dtype: int64\n",
            "------------------------------------------------------------------------------------------\n"
          ]
        }
      ]
    },
    {
      "cell_type": "code",
      "source": [
        "for col in df.columns:\n",
        "    print(col,df[col].nunique())\n",
        "    print('-'*35)"
      ],
      "metadata": {
        "colab": {
          "base_uri": "https://localhost:8080/"
        },
        "id": "3TDFP57uR3EP",
        "outputId": "1eecfb7b-1704-4b55-a9d5-f4d0f6c4b01b"
      },
      "execution_count": null,
      "outputs": [
        {
          "output_type": "stream",
          "name": "stdout",
          "text": [
            "policy_tenure 58592\n",
            "-----------------------------------\n",
            "age_of_car 49\n",
            "-----------------------------------\n",
            "age_of_policyholder 75\n",
            "-----------------------------------\n",
            "area_cluster 22\n",
            "-----------------------------------\n",
            "population_density 22\n",
            "-----------------------------------\n",
            "make 5\n",
            "-----------------------------------\n",
            "segment 6\n",
            "-----------------------------------\n",
            "model 11\n",
            "-----------------------------------\n",
            "fuel_type 3\n",
            "-----------------------------------\n",
            "max_torque 9\n",
            "-----------------------------------\n",
            "max_power 9\n",
            "-----------------------------------\n",
            "engine_type 11\n",
            "-----------------------------------\n",
            "airbags 3\n",
            "-----------------------------------\n",
            "is_esc 2\n",
            "-----------------------------------\n",
            "is_adjustable_steering 2\n",
            "-----------------------------------\n",
            "is_tpms 2\n",
            "-----------------------------------\n",
            "is_parking_sensors 2\n",
            "-----------------------------------\n",
            "is_parking_camera 2\n",
            "-----------------------------------\n",
            "rear_brakes_type 2\n",
            "-----------------------------------\n",
            "displacement 9\n",
            "-----------------------------------\n",
            "cylinder 2\n",
            "-----------------------------------\n",
            "transmission_type 2\n",
            "-----------------------------------\n",
            "gear_box 2\n",
            "-----------------------------------\n",
            "steering_type 3\n",
            "-----------------------------------\n",
            "turning_radius 9\n",
            "-----------------------------------\n",
            "length 9\n",
            "-----------------------------------\n",
            "width 10\n",
            "-----------------------------------\n",
            "height 11\n",
            "-----------------------------------\n",
            "gross_weight 10\n",
            "-----------------------------------\n",
            "is_front_fog_lights 2\n",
            "-----------------------------------\n",
            "is_rear_window_wiper 2\n",
            "-----------------------------------\n",
            "is_rear_window_washer 2\n",
            "-----------------------------------\n",
            "is_rear_window_defogger 2\n",
            "-----------------------------------\n",
            "is_brake_assist 2\n",
            "-----------------------------------\n",
            "is_power_door_locks 2\n",
            "-----------------------------------\n",
            "is_central_locking 2\n",
            "-----------------------------------\n",
            "is_power_steering 2\n",
            "-----------------------------------\n",
            "is_driver_seat_height_adjustable 2\n",
            "-----------------------------------\n",
            "is_day_night_rear_view_mirror 2\n",
            "-----------------------------------\n",
            "is_ecw 2\n",
            "-----------------------------------\n",
            "is_speed_alert 2\n",
            "-----------------------------------\n",
            "ncap_rating 5\n",
            "-----------------------------------\n",
            "is_claim 2\n",
            "-----------------------------------\n"
          ]
        }
      ]
    },
    {
      "cell_type": "markdown",
      "source": [
        "# **EDA**"
      ],
      "metadata": {
        "id": "5Za54mXiVf3E"
      }
    },
    {
      "cell_type": "code",
      "source": [
        "#lets check distribution for continuous columns\n",
        "num_data = df._get_numeric_data()\n",
        "plt.figure(figsize = (20,20))\n",
        "plotnumber = 1\n",
        "for column in num_data:\n",
        "    if plotnumber <=45:\n",
        "        ax = plt.subplot(12,3,plotnumber)\n",
        "        sns.distplot(num_data[column])\n",
        "        plt.xlabel(column,fontsize = 20)\n",
        "    plotnumber+=1\n",
        "plt.tight_layout()"
      ],
      "metadata": {
        "colab": {
          "base_uri": "https://localhost:8080/",
          "height": 459
        },
        "id": "8VNjf1gVR-nn",
        "outputId": "6ae1ff49-bb1a-40a6-e774-0f877608c8db"
      },
      "execution_count": null,
      "outputs": [
        {
          "output_type": "display_data",
          "data": {
            "text/plain": [
              "<Figure size 1440x1440 with 16 Axes>"
            ],
            "image/png": "[encoded data removed]"
          },
          "metadata": {
            "needs_background": "light"
          }
        }
      ]
    },
    {
      "cell_type": "markdown",
      "source": [
        "# **Data processing**"
      ],
      "metadata": {
        "id": "FDGxJSXQWdzy"
      }
    },
    {
      "cell_type": "markdown",
      "source": [
        "# **Apply label encoder to target variable**"
      ],
      "metadata": {
        "id": "U59tj-ehWidh"
      }
    },
    {
      "cell_type": "code",
      "source": [
        "from sklearn.preprocessing import LabelEncoder\n",
        "leb_enc = LabelEncoder()\n",
        "df2 = leb_enc.fit_transform(df[\"is_claim\"])\n",
        "pd.Series(df2)\n",
        "df[\"is_claim\"] = df2"
      ],
      "metadata": {
        "id": "EVn_0E5KR-zL"
      },
      "execution_count": null,
      "outputs": []
    },
    {
      "cell_type": "code",
      "source": [
        "df.columns"
      ],
      "metadata": {
        "colab": {
          "base_uri": "https://localhost:8080/"
        },
        "id": "2y9CSvVUR-1i",
        "outputId": "8dfd05df-4ac7-4789-a140-e8525f55a280"
      },
      "execution_count": null,
      "outputs": [
        {
          "output_type": "execute_result",
          "data": {
            "text/plain": [
              "Index(['policy_tenure', 'age_of_car', 'age_of_policyholder', 'area_cluster',\n",
              "       'population_density', 'make', 'segment', 'model', 'fuel_type',\n",
              "       'max_torque', 'max_power', 'engine_type', 'airbags', 'is_esc',\n",
              "       'is_adjustable_steering', 'is_tpms', 'is_parking_sensors',\n",
              "       'is_parking_camera', 'rear_brakes_type', 'displacement', 'cylinder',\n",
              "       'transmission_type', 'gear_box', 'steering_type', 'turning_radius',\n",
              "       'length', 'width', 'height', 'gross_weight', 'is_front_fog_lights',\n",
              "       'is_rear_window_wiper', 'is_rear_window_washer',\n",
              "       'is_rear_window_defogger', 'is_brake_assist', 'is_power_door_locks',\n",
              "       'is_central_locking', 'is_power_steering',\n",
              "       'is_driver_seat_height_adjustable', 'is_day_night_rear_view_mirror',\n",
              "       'is_ecw', 'is_speed_alert', 'ncap_rating', 'is_claim'],\n",
              "      dtype='object')"
            ]
          },
          "metadata": {},
          "execution_count": 80
        }
      ]
    },
    {
      "cell_type": "markdown",
      "source": [
        "# ***Heat map for checking correlation***"
      ],
      "metadata": {
        "id": "Avxx4oCfWwOB"
      }
    },
    {
      "cell_type": "code",
      "source": [
        "#Lets plot heatmap to check correlation among differnt features and label\n",
        "df_corr = df.corr()\n",
        "plt.figure(figsize = (20,15))\n",
        "sns.heatmap(df_corr,vmin=-1,vmax=1,annot=True,center=0,fmt='.2g',linewidths=0.1)\n",
        "plt.tight_layout()"
      ],
      "metadata": {
        "colab": {
          "base_uri": "https://localhost:8080/",
          "height": 715
        },
        "id": "zgQSib1VR-4a",
        "outputId": "bb41a0a1-4d97-4bb9-8bab-374344bc2cb8"
      },
      "execution_count": null,
      "outputs": [
        {
          "output_type": "display_data",
          "data": {
            "text/plain": [
              "<Figure size 1440x1080 with 2 Axes>"
            ],
            "image/png": "[encoded data removed]"
          },
          "metadata": {
            "needs_background": "light"
          }
        }
      ]
    },
    {
      "cell_type": "code",
      "source": [
        "#lets describe the data\n",
        "df.describe().T"
      ],
      "metadata": {
        "colab": {
          "base_uri": "https://localhost:8080/",
          "height": 615
        },
        "id": "IfroVZJbR-7W",
        "outputId": "21e17f14-bb0a-459a-88a3-8c1eec5dc390"
      },
      "execution_count": null,
      "outputs": [
        {
          "output_type": "execute_result",
          "data": {
            "text/plain": [
              "                       count          mean           std          min  \\\n",
              "policy_tenure        58592.0      0.611246      0.414156     0.002735   \n",
              "age_of_car           58592.0      0.069424      0.056721     0.000000   \n",
              "age_of_policyholder  58592.0      0.469420      0.122886     0.288462   \n",
              "population_density   58592.0  18826.858667  17660.174792   290.000000   \n",
              "make                 58592.0      1.763722      1.136988     1.000000   \n",
              "airbags              58592.0      3.137066      1.832641     1.000000   \n",
              "displacement         58592.0   1162.355851    266.304786   796.000000   \n",
              "cylinder             58592.0      3.626963      0.483616     3.000000   \n",
              "gear_box             58592.0      5.245443      0.430353     5.000000   \n",
              "turning_radius       58592.0      4.852893      0.228061     4.500000   \n",
              "length               58592.0   3850.476891    311.457119  3445.000000   \n",
              "width                58592.0   1672.233667    112.089135  1475.000000   \n",
              "height               58592.0   1553.335370     79.622270  1475.000000   \n",
              "gross_weight         58592.0   1385.276813    212.423085  1051.000000   \n",
              "ncap_rating          58592.0      1.759950      1.389576     0.000000   \n",
              "is_claim             58592.0      0.063968      0.244698     0.000000   \n",
              "\n",
              "                             25%          50%           75%           max  \n",
              "policy_tenure           0.210250     0.573792      1.039104      1.396641  \n",
              "age_of_car              0.020000     0.060000      0.110000      1.000000  \n",
              "age_of_policyholder     0.365385     0.451923      0.548077      1.000000  \n",
              "population_density   6112.000000  8794.000000  27003.000000  73430.000000  \n",
              "make                    1.000000     1.000000      3.000000      5.000000  \n",
              "airbags                 2.000000     2.000000      6.000000      6.000000  \n",
              "displacement          796.000000  1197.000000   1493.000000   1498.000000  \n",
              "cylinder                3.000000     4.000000      4.000000      4.000000  \n",
              "gear_box                5.000000     5.000000      5.000000      6.000000  \n",
              "turning_radius          4.600000     4.800000      5.000000      5.200000  \n",
              "length               3445.000000  3845.000000   3995.000000   4300.000000  \n",
              "width                1515.000000  1735.000000   1755.000000   1811.000000  \n",
              "height               1475.000000  1530.000000   1635.000000   1825.000000  \n",
              "gross_weight         1185.000000  1335.000000   1510.000000   1720.000000  \n",
              "ncap_rating             0.000000     2.000000      3.000000      5.000000  \n",
              "is_claim                0.000000     0.000000      0.000000      1.000000  "
            ],
            "text/html": [
              "\n",
              "  <div id=\"df-32329238-b5cd-4f16-b5b5-c1c29600f0d1\">\n",
              "    <div class=\"colab-df-container\">\n",
              "      <div>\n",
              "<style scoped>\n",
              "    .dataframe tbody tr th:only-of-type {\n",
              "        vertical-align: middle;\n",
              "    }\n",
              "\n",
              "    .dataframe tbody tr th {\n",
              "        vertical-align: top;\n",
              "    }\n",
              "\n",
              "    .dataframe thead th {\n",
              "        text-align: right;\n",
              "    }\n",
              "</style>\n",
              "<table border=\"1\" class=\"dataframe\">\n",
              "  <thead>\n",
              "    <tr style=\"text-align: right;\">\n",
              "      <th></th>\n",
              "      <th>count</th>\n",
              "      <th>mean</th>\n",
              "      <th>std</th>\n",
              "      <th>min</th>\n",
              "      <th>25%</th>\n",
              "      <th>50%</th>\n",
              "      <th>75%</th>\n",
              "      <th>max</th>\n",
              "    </tr>\n",
              "  </thead>\n",
              "  <tbody>\n",
              "    <tr>\n",
              "      <th>policy_tenure</th>\n",
              "      <td>58592.0</td>\n",
              "      <td>0.611246</td>\n",
              "      <td>0.414156</td>\n",
              "      <td>0.002735</td>\n",
              "      <td>0.210250</td>\n",
              "      <td>0.573792</td>\n",
              "      <td>1.039104</td>\n",
              "      <td>1.396641</td>\n",
              "    </tr>\n",
              "    <tr>\n",
              "      <th>age_of_car</th>\n",
              "      <td>58592.0</td>\n",
              "      <td>0.069424</td>\n",
              "      <td>0.056721</td>\n",
              "      <td>0.000000</td>\n",
              "      <td>0.020000</td>\n",
              "      <td>0.060000</td>\n",
              "      <td>0.110000</td>\n",
              "      <td>1.000000</td>\n",
              "    </tr>\n",
              "    <tr>\n",
              "      <th>age_of_policyholder</th>\n",
              "      <td>58592.0</td>\n",
              "      <td>0.469420</td>\n",
              "      <td>0.122886</td>\n",
              "      <td>0.288462</td>\n",
              "      <td>0.365385</td>\n",
              "      <td>0.451923</td>\n",
              "      <td>0.548077</td>\n",
              "      <td>1.000000</td>\n",
              "    </tr>\n",
              "    <tr>\n",
              "      <th>population_density</th>\n",
              "      <td>58592.0</td>\n",
              "      <td>18826.858667</td>\n",
              "      <td>17660.174792</td>\n",
              "      <td>290.000000</td>\n",
              "      <td>6112.000000</td>\n",
              "      <td>8794.000000</td>\n",
              "      <td>27003.000000</td>\n",
              "      <td>73430.000000</td>\n",
              "    </tr>\n",
              "    <tr>\n",
              "      <th>make</th>\n",
              "      <td>58592.0</td>\n",
              "      <td>1.763722</td>\n",
              "      <td>1.136988</td>\n",
              "      <td>1.000000</td>\n",
              "      <td>1.000000</td>\n",
              "      <td>1.000000</td>\n",
              "      <td>3.000000</td>\n",
              "      <td>5.000000</td>\n",
              "    </tr>\n",
              "    <tr>\n",
              "      <th>airbags</th>\n",
              "      <td>58592.0</td>\n",
              "      <td>3.137066</td>\n",
              "      <td>1.832641</td>\n",
              "      <td>1.000000</td>\n",
              "      <td>2.000000</td>\n",
              "      <td>2.000000</td>\n",
              "      <td>6.000000</td>\n",
              "      <td>6.000000</td>\n",
              "    </tr>\n",
              "    <tr>\n",
              "      <th>displacement</th>\n",
              "      <td>58592.0</td>\n",
              "      <td>1162.355851</td>\n",
              "      <td>266.304786</td>\n",
              "      <td>796.000000</td>\n",
              "      <td>796.000000</td>\n",
              "      <td>1197.000000</td>\n",
              "      <td>1493.000000</td>\n",
              "      <td>1498.000000</td>\n",
              "    </tr>\n",
              "    <tr>\n",
              "      <th>cylinder</th>\n",
              "      <td>58592.0</td>\n",
              "      <td>3.626963</td>\n",
              "      <td>0.483616</td>\n",
              "      <td>3.000000</td>\n",
              "      <td>3.000000</td>\n",
              "      <td>4.000000</td>\n",
              "      <td>4.000000</td>\n",
              "      <td>4.000000</td>\n",
              "    </tr>\n",
              "    <tr>\n",
              "      <th>gear_box</th>\n",
              "      <td>58592.0</td>\n",
              "      <td>5.245443</td>\n",
              "      <td>0.430353</td>\n",
              "      <td>5.000000</td>\n",
              "      <td>5.000000</td>\n",
              "      <td>5.000000</td>\n",
              "      <td>5.000000</td>\n",
              "      <td>6.000000</td>\n",
              "    </tr>\n",
              "    <tr>\n",
              "      <th>turning_radius</th>\n",
              "      <td>58592.0</td>\n",
              "      <td>4.852893</td>\n",
              "      <td>0.228061</td>\n",
              "      <td>4.500000</td>\n",
              "      <td>4.600000</td>\n",
              "      <td>4.800000</td>\n",
              "      <td>5.000000</td>\n",
              "      <td>5.200000</td>\n",
              "    </tr>\n",
              "    <tr>\n",
              "      <th>length</th>\n",
              "      <td>58592.0</td>\n",
              "      <td>3850.476891</td>\n",
              "      <td>311.457119</td>\n",
              "      <td>3445.000000</td>\n",
              "      <td>3445.000000</td>\n",
              "      <td>3845.000000</td>\n",
              "      <td>3995.000000</td>\n",
              "      <td>4300.000000</td>\n",
              "    </tr>\n",
              "    <tr>\n",
              "      <th>width</th>\n",
              "      <td>58592.0</td>\n",
              "      <td>1672.233667</td>\n",
              "      <td>112.089135</td>\n",
              "      <td>1475.000000</td>\n",
              "      <td>1515.000000</td>\n",
              "      <td>1735.000000</td>\n",
              "      <td>1755.000000</td>\n",
              "      <td>1811.000000</td>\n",
              "    </tr>\n",
              "    <tr>\n",
              "      <th>height</th>\n",
              "      <td>58592.0</td>\n",
              "      <td>1553.335370</td>\n",
              "      <td>79.622270</td>\n",
              "      <td>1475.000000</td>\n",
              "      <td>1475.000000</td>\n",
              "      <td>1530.000000</td>\n",
              "      <td>1635.000000</td>\n",
              "      <td>1825.000000</td>\n",
              "    </tr>\n",
              "    <tr>\n",
              "      <th>gross_weight</th>\n",
              "      <td>58592.0</td>\n",
              "      <td>1385.276813</td>\n",
              "      <td>212.423085</td>\n",
              "      <td>1051.000000</td>\n",
              "      <td>1185.000000</td>\n",
              "      <td>1335.000000</td>\n",
              "      <td>1510.000000</td>\n",
              "      <td>1720.000000</td>\n",
              "    </tr>\n",
              "    <tr>\n",
              "      <th>ncap_rating</th>\n",
              "      <td>58592.0</td>\n",
              "      <td>1.759950</td>\n",
              "      <td>1.389576</td>\n",
              "      <td>0.000000</td>\n",
              "      <td>0.000000</td>\n",
              "      <td>2.000000</td>\n",
              "      <td>3.000000</td>\n",
              "      <td>5.000000</td>\n",
              "    </tr>\n",
              "    <tr>\n",
              "      <th>is_claim</th>\n",
              "      <td>58592.0</td>\n",
              "      <td>0.063968</td>\n",
              "      <td>0.244698</td>\n",
              "      <td>0.000000</td>\n",
              "      <td>0.000000</td>\n",
              "      <td>0.000000</td>\n",
              "      <td>0.000000</td>\n",
              "      <td>1.000000</td>\n",
              "    </tr>\n",
              "  </tbody>\n",
              "</table>\n",
              "</div>\n",
              "      <button class=\"colab-df-convert\" onclick=\"convertToInteractive('df-32329238-b5cd-4f16-b5b5-c1c29600f0d1')\"\n",
              "              title=\"Convert this dataframe to an interactive table.\"\n",
              "              style=\"display:none;\">\n",
              "        \n",
              "  <svg xmlns=\"http://www.w3.org/2000/svg\" height=\"24px\"viewBox=\"0 0 24 24\"\n",
              "       width=\"24px\">\n",
              "    <path d=\"M0 0h24v24H0V0z\" fill=\"none\"/>\n",
              "    <path d=\"M18.56 5.44l.94 2.06.94-2.06 2.06-.94-2.06-.94-.94-2.06-.94 2.06-2.06.94zm-11 1L8.5 8.5l.94-2.06 2.06-.94-2.06-.94L8.5 2.5l-.94 2.06-2.06.94zm10 10l.94 2.06.94-2.06 2.06-.94-2.06-.94-.94-2.06-.94 2.06-2.06.94z\"/><path d=\"M17.41 7.96l-1.37-1.37c-.4-.4-.92-.59-1.43-.59-.52 0-1.04.2-1.43.59L10.3 9.45l-7.72 7.72c-.78.78-.78 2.05 0 2.83L4 21.41c.39.39.9.59 1.41.59.51 0 1.02-.2 1.41-.59l7.78-7.78 2.81-2.81c.8-.78.8-2.07 0-2.86zM5.41 20L4 18.59l7.72-7.72 1.47 1.35L5.41 20z\"/>\n",
              "  </svg>\n",
              "      </button>\n",
              "      \n",
              "  <style>\n",
              "    .colab-df-container {\n",
              "      display:flex;\n",
              "      flex-wrap:wrap;\n",
              "      gap: 12px;\n",
              "    }\n",
              "\n",
              "    .colab-df-convert {\n",
              "      background-color: #E8F0FE;\n",
              "      border: none;\n",
              "      border-radius: 50%;\n",
              "      cursor: pointer;\n",
              "      display: none;\n",
              "      fill: #1967D2;\n",
              "      height: 32px;\n",
              "      padding: 0 0 0 0;\n",
              "      width: 32px;\n",
              "    }\n",
              "\n",
              "    .colab-df-convert:hover {\n",
              "      background-color: #E2EBFA;\n",
              "      box-shadow: 0px 1px 2px rgba(60, 64, 67, 0.3), 0px 1px 3px 1px rgba(60, 64, 67, 0.15);\n",
              "      fill: #174EA6;\n",
              "    }\n",
              "\n",
              "    [theme=dark] .colab-df-convert {\n",
              "      background-color: #3B4455;\n",
              "      fill: #D2E3FC;\n",
              "    }\n",
              "\n",
              "    [theme=dark] .colab-df-convert:hover {\n",
              "      background-color: #434B5C;\n",
              "      box-shadow: 0px 1px 3px 1px rgba(0, 0, 0, 0.15);\n",
              "      filter: drop-shadow(0px 1px 2px rgba(0, 0, 0, 0.3));\n",
              "      fill: #FFFFFF;\n",
              "    }\n",
              "  </style>\n",
              "\n",
              "      <script>\n",
              "        const buttonEl =\n",
              "          document.querySelector('#df-32329238-b5cd-4f16-b5b5-c1c29600f0d1 button.colab-df-convert');\n",
              "        buttonEl.style.display =\n",
              "          google.colab.kernel.accessAllowed ? 'block' : 'none';\n",
              "\n",
              "        async function convertToInteractive(key) {\n",
              "          const element = document.querySelector('#df-32329238-b5cd-4f16-b5b5-c1c29600f0d1');\n",
              "          const dataTable =\n",
              "            await google.colab.kernel.invokeFunction('convertToInteractive',\n",
              "                                                     [key], {});\n",
              "          if (!dataTable) return;\n",
              "\n",
              "          const docLinkHtml = 'Like what you see? Visit the ' +\n",
              "            '<a target=\"_blank\" href=https://colab.research.google.com/notebooks/data_table.ipynb>data table notebook</a>'\n",
              "            + ' to learn more about interactive tables.';\n",
              "          element.innerHTML = '';\n",
              "          dataTable['output_type'] = 'display_data';\n",
              "          await google.colab.output.renderOutput(dataTable, element);\n",
              "          const docLink = document.createElement('div');\n",
              "          docLink.innerHTML = docLinkHtml;\n",
              "          element.appendChild(docLink);\n",
              "        }\n",
              "      </script>\n",
              "    </div>\n",
              "  </div>\n",
              "  "
            ]
          },
          "metadata": {},
          "execution_count": 82
        }
      ]
    },
    {
      "cell_type": "markdown",
      "source": [
        "## **Checking for outliers using box plots**"
      ],
      "metadata": {
        "id": "Homcc_XyXbuy"
      }
    },
    {
      "cell_type": "code",
      "source": [
        "#lets check outliers from continuous columns\n",
        "num_data = df._get_numeric_data()\n",
        "plt.figure(figsize = (25,10))\n",
        "plotnumber = 1\n",
        "for column in num_data:\n",
        "    if plotnumber <=45:\n",
        "        ax = plt.subplot(5,4,plotnumber)\n",
        "        sns.boxplot(num_data[column])\n",
        "        plt.xlabel(column,fontsize = 20)\n",
        "    plotnumber+=1\n",
        "plt.tight_layout()"
      ],
      "metadata": {
        "colab": {
          "base_uri": "https://localhost:8080/",
          "height": 304
        },
        "id": "VQhg790WR-9z",
        "outputId": "894adbab-c805-49a2-beed-d31496b8894f"
      },
      "execution_count": null,
      "outputs": [
        {
          "output_type": "display_data",
          "data": {
            "text/plain": [
              "<Figure size 1800x720 with 16 Axes>"
            ],
            "image/png": "[encoded data removed]"
          },
          "metadata": {
            "needs_background": "light"
          }
        }
      ]
    },
    {
      "cell_type": "code",
      "source": [
        "#lets see the destribution of numerical data\n",
        "num_data = df._get_numeric_data()\n",
        "plt.figure(figsize = (25,20))\n",
        "plt.style.use('fivethirtyeight')\n",
        "plotnumber = 1\n",
        "for column in num_data:\n",
        "    if plotnumber <=5:\n",
        "        ax = plt.subplot(3,2,plotnumber)\n",
        "        sns.distplot(num_data[column])\n",
        "        plt.xlabel(column,fontsize = 20)\n",
        "    plotnumber+=1\n",
        "plt.tight_layout()"
      ],
      "metadata": {
        "colab": {
          "base_uri": "https://localhost:8080/",
          "height": 701
        },
        "id": "3BWDMOEzR_AU",
        "outputId": "5617254f-e384-4960-ac26-3682a4db45f0"
      },
      "execution_count": null,
      "outputs": [
        {
          "output_type": "display_data",
          "data": {
            "text/plain": [
              "<Figure size 1800x1440 with 5 Axes>"
            ],
            "image/png": "[encoded data removed]"
          },
          "metadata": {
            "needs_background": "light"
          }
        }
      ]
    },
    {
      "cell_type": "code",
      "source": [
        "#lets check for skewness\n",
        "df.skew()"
      ],
      "metadata": {
        "colab": {
          "base_uri": "https://localhost:8080/"
        },
        "id": "zx7ULbrsR_C7",
        "outputId": "0be46f24-33bd-4f91-aac8-85b1018991c1"
      },
      "execution_count": null,
      "outputs": [
        {
          "output_type": "execute_result",
          "data": {
            "text/plain": [
              "policy_tenure          0.053588\n",
              "age_of_car             1.094081\n",
              "age_of_policyholder    0.640049\n",
              "population_density     1.674178\n",
              "make                   1.197457\n",
              "airbags                0.905946\n",
              "displacement          -0.105317\n",
              "cylinder              -0.525074\n",
              "gear_box               1.183054\n",
              "turning_radius         0.420983\n",
              "length                 0.145801\n",
              "width                 -0.488392\n",
              "height                 1.035498\n",
              "gross_weight           0.546949\n",
              "ncap_rating            0.085147\n",
              "is_claim               3.563967\n",
              "dtype: float64"
            ]
          },
          "metadata": {},
          "execution_count": 85
        }
      ]
    },
    {
      "cell_type": "markdown",
      "source": [
        "# ***Separate features and label as x & y respectively***"
      ],
      "metadata": {
        "id": "Fg5vWHvVYy4R"
      }
    },
    {
      "cell_type": "code",
      "source": [
        "x = df.drop(columns = 'is_claim')\n",
        "y = df['is_claim']"
      ],
      "metadata": {
        "id": "fk_zibt8R_FU"
      },
      "execution_count": null,
      "outputs": []
    },
    {
      "cell_type": "code",
      "source": [
        "df.columns"
      ],
      "metadata": {
        "colab": {
          "base_uri": "https://localhost:8080/"
        },
        "id": "yCqm133JR_Hl",
        "outputId": "85fec78c-bc30-4b0a-d66c-f34cde158a1c"
      },
      "execution_count": null,
      "outputs": [
        {
          "output_type": "execute_result",
          "data": {
            "text/plain": [
              "Index(['policy_tenure', 'age_of_car', 'age_of_policyholder', 'area_cluster',\n",
              "       'population_density', 'make', 'segment', 'model', 'fuel_type',\n",
              "       'max_torque', 'max_power', 'engine_type', 'airbags', 'is_esc',\n",
              "       'is_adjustable_steering', 'is_tpms', 'is_parking_sensors',\n",
              "       'is_parking_camera', 'rear_brakes_type', 'displacement', 'cylinder',\n",
              "       'transmission_type', 'gear_box', 'steering_type', 'turning_radius',\n",
              "       'length', 'width', 'height', 'gross_weight', 'is_front_fog_lights',\n",
              "       'is_rear_window_wiper', 'is_rear_window_washer',\n",
              "       'is_rear_window_defogger', 'is_brake_assist', 'is_power_door_locks',\n",
              "       'is_central_locking', 'is_power_steering',\n",
              "       'is_driver_seat_height_adjustable', 'is_day_night_rear_view_mirror',\n",
              "       'is_ecw', 'is_speed_alert', 'ncap_rating', 'is_claim'],\n",
              "      dtype='object')"
            ]
          },
          "metadata": {},
          "execution_count": 87
        }
      ]
    },
    {
      "cell_type": "code",
      "source": [
        "x.skew()"
      ],
      "metadata": {
        "colab": {
          "base_uri": "https://localhost:8080/"
        },
        "id": "aWS2-4zVR_KP",
        "outputId": "468f3ed9-d6a0-4c74-91b6-b0b8cf7f5ea5"
      },
      "execution_count": null,
      "outputs": [
        {
          "output_type": "execute_result",
          "data": {
            "text/plain": [
              "policy_tenure          0.053588\n",
              "age_of_car             1.094081\n",
              "age_of_policyholder    0.640049\n",
              "population_density     1.674178\n",
              "make                   1.197457\n",
              "airbags                0.905946\n",
              "displacement          -0.105317\n",
              "cylinder              -0.525074\n",
              "gear_box               1.183054\n",
              "turning_radius         0.420983\n",
              "length                 0.145801\n",
              "width                 -0.488392\n",
              "height                 1.035498\n",
              "gross_weight           0.546949\n",
              "ncap_rating            0.085147\n",
              "dtype: float64"
            ]
          },
          "metadata": {},
          "execution_count": 88
        }
      ]
    },
    {
      "cell_type": "code",
      "source": [
        "#Lets treat the skewness from numerical columns\n",
        "for index in x.skew().index:\n",
        "    if x.skew().loc[index]>0.5:\n",
        "        x[index]=np.log1p(x[index])\n",
        "    if x.skew().loc[index]<-0.5:\n",
        "        x[index]=np.cbrt(x[index])"
      ],
      "metadata": {
        "id": "d1r9eqqjR_Nj"
      },
      "execution_count": null,
      "outputs": []
    },
    {
      "cell_type": "code",
      "source": [
        "#check the skewness again\n",
        "x.skew()"
      ],
      "metadata": {
        "colab": {
          "base_uri": "https://localhost:8080/"
        },
        "id": "lYq3-RVPZC_M",
        "outputId": "613c2f74-dca7-4cd5-f330-dc8896068c52"
      },
      "execution_count": null,
      "outputs": [
        {
          "output_type": "execute_result",
          "data": {
            "text/plain": [
              "policy_tenure          0.053588\n",
              "age_of_car             0.792845\n",
              "age_of_policyholder    0.472141\n",
              "population_density    -0.446592\n",
              "make                   0.896483\n",
              "airbags                0.838431\n",
              "displacement          -0.105317\n",
              "cylinder              -0.525074\n",
              "gear_box               1.183054\n",
              "turning_radius         0.420983\n",
              "length                 0.145801\n",
              "width                 -0.488392\n",
              "height                 0.922016\n",
              "gross_weight           0.377095\n",
              "ncap_rating            0.085147\n",
              "dtype: float64"
            ]
          },
          "metadata": {},
          "execution_count": 90
        }
      ]
    },
    {
      "cell_type": "code",
      "source": [
        "#lets separate numerical and categorical features for scaling and encoding\n",
        "num = x._get_numeric_data()\n",
        "cat = x.select_dtypes(include=['object'])"
      ],
      "metadata": {
        "id": "gM_yAEp4ZDCC"
      },
      "execution_count": null,
      "outputs": []
    },
    {
      "cell_type": "markdown",
      "source": [
        "## ***Applying StandardScaler to numerical features***"
      ],
      "metadata": {
        "id": "RGMefMPSZUC0"
      }
    },
    {
      "cell_type": "code",
      "source": [
        "#Lets bring all numerical features to common scale by applying standard scaler\n",
        "scaler = StandardScaler()\n",
        "x_num = scaler.fit_transform(num)\n",
        "x_num = pd.DataFrame(x_num,columns=num.columns)"
      ],
      "metadata": {
        "id": "WIKHQeqqZDE3"
      },
      "execution_count": null,
      "outputs": []
    },
    {
      "cell_type": "code",
      "source": [
        "#combine both numerical and categorical features\n",
        "X = pd.concat([x_num,cat], axis = 1)"
      ],
      "metadata": {
        "id": "bBFqAej-ZDHv"
      },
      "execution_count": null,
      "outputs": []
    },
    {
      "cell_type": "code",
      "source": [
        "#lets have a look at our features\n",
        "X.head()"
      ],
      "metadata": {
        "colab": {
          "base_uri": "https://localhost:8080/",
          "height": 299
        },
        "id": "wKOe5_2XZDKW",
        "outputId": "7b4ce995-9356-45a1-921d-964af953245d"
      },
      "execution_count": null,
      "outputs": [
        {
          "output_type": "execute_result",
          "data": {
            "text/plain": [
              "   policy_tenure  age_of_car  age_of_policyholder  population_density  \\\n",
              "0      -0.230283   -0.327096             1.412462           -0.964127   \n",
              "1       0.148188   -0.885975            -0.768508            0.808551   \n",
              "2       0.555022   -0.885975            -0.683514           -1.176506   \n",
              "3       0.697883    0.744287            -0.267210            0.575224   \n",
              "4      -0.035840    0.744287             1.340928            1.073010   \n",
              "\n",
              "       make   airbags  displacement  cylinder  gear_box  turning_radius  ...  \\\n",
              "0 -0.701921 -0.601495     -1.375713 -1.296417 -0.570334       -1.108893  ...   \n",
              "1 -0.701921 -0.601495     -1.375713 -1.296417 -0.570334       -1.108893  ...   \n",
              "2 -0.701921 -0.601495     -1.375713 -1.296417 -0.570334       -1.108893  ...   \n",
              "3 -0.701921 -0.601495      0.130093  0.771357 -0.570334       -0.231926  ...   \n",
              "4  0.424956 -0.601495     -0.613422 -1.296417 -0.570334        0.645040  ...   \n",
              "\n",
              "   is_rear_window_washer  is_rear_window_defogger  is_brake_assist  \\\n",
              "0                     No                       No               No   \n",
              "1                     No                       No               No   \n",
              "2                     No                       No               No   \n",
              "3                     No                      Yes              Yes   \n",
              "4                     No                       No               No   \n",
              "\n",
              "   is_power_door_locks  is_central_locking is_power_steering  \\\n",
              "0                   No                  No               Yes   \n",
              "1                   No                  No               Yes   \n",
              "2                   No                  No               Yes   \n",
              "3                  Yes                 Yes               Yes   \n",
              "4                  Yes                 Yes               Yes   \n",
              "\n",
              "  is_driver_seat_height_adjustable is_day_night_rear_view_mirror is_ecw  \\\n",
              "0                               No                            No     No   \n",
              "1                               No                            No     No   \n",
              "2                               No                            No     No   \n",
              "3                              Yes                           Yes    Yes   \n",
              "4                               No                           Yes    Yes   \n",
              "\n",
              "  is_speed_alert  \n",
              "0            Yes  \n",
              "1            Yes  \n",
              "2            Yes  \n",
              "3            Yes  \n",
              "4            Yes  \n",
              "\n",
              "[5 rows x 42 columns]"
            ],
            "text/html": [
              "\n",
              "  <div id=\"df-10afbc23-a374-4c8b-a2f0-c114a5e7236a\">\n",
              "    <div class=\"colab-df-container\">\n",
              "      <div>\n",
              "<style scoped>\n",
              "    .dataframe tbody tr th:only-of-type {\n",
              "        vertical-align: middle;\n",
              "    }\n",
              "\n",
              "    .dataframe tbody tr th {\n",
              "        vertical-align: top;\n",
              "    }\n",
              "\n",
              "    .dataframe thead th {\n",
              "        text-align: right;\n",
              "    }\n",
              "</style>\n",
              "<table border=\"1\" class=\"dataframe\">\n",
              "  <thead>\n",
              "    <tr style=\"text-align: right;\">\n",
              "      <th></th>\n",
              "      <th>policy_tenure</th>\n",
              "      <th>age_of_car</th>\n",
              "      <th>age_of_policyholder</th>\n",
              "      <th>population_density</th>\n",
              "      <th>make</th>\n",
              "      <th>airbags</th>\n",
              "      <th>displacement</th>\n",
              "      <th>cylinder</th>\n",
              "      <th>gear_box</th>\n",
              "      <th>turning_radius</th>\n",
              "      <th>...</th>\n",
              "      <th>is_rear_window_washer</th>\n",
              "      <th>is_rear_window_defogger</th>\n",
              "      <th>is_brake_assist</th>\n",
              "      <th>is_power_door_locks</th>\n",
              "      <th>is_central_locking</th>\n",
              "      <th>is_power_steering</th>\n",
              "      <th>is_driver_seat_height_adjustable</th>\n",
              "      <th>is_day_night_rear_view_mirror</th>\n",
              "      <th>is_ecw</th>\n",
              "      <th>is_speed_alert</th>\n",
              "    </tr>\n",
              "  </thead>\n",
              "  <tbody>\n",
              "    <tr>\n",
              "      <th>0</th>\n",
              "      <td>-0.230283</td>\n",
              "      <td>-0.327096</td>\n",
              "      <td>1.412462</td>\n",
              "      <td>-0.964127</td>\n",
              "      <td>-0.701921</td>\n",
              "      <td>-0.601495</td>\n",
              "      <td>-1.375713</td>\n",
              "      <td>-1.296417</td>\n",
              "      <td>-0.570334</td>\n",
              "      <td>-1.108893</td>\n",
              "      <td>...</td>\n",
              "      <td>No</td>\n",
              "      <td>No</td>\n",
              "      <td>No</td>\n",
              "      <td>No</td>\n",
              "      <td>No</td>\n",
              "      <td>Yes</td>\n",
              "      <td>No</td>\n",
              "      <td>No</td>\n",
              "      <td>No</td>\n",
              "      <td>Yes</td>\n",
              "    </tr>\n",
              "    <tr>\n",
              "      <th>1</th>\n",
              "      <td>0.148188</td>\n",
              "      <td>-0.885975</td>\n",
              "      <td>-0.768508</td>\n",
              "      <td>0.808551</td>\n",
              "      <td>-0.701921</td>\n",
              "      <td>-0.601495</td>\n",
              "      <td>-1.375713</td>\n",
              "      <td>-1.296417</td>\n",
              "      <td>-0.570334</td>\n",
              "      <td>-1.108893</td>\n",
              "      <td>...</td>\n",
              "      <td>No</td>\n",
              "      <td>No</td>\n",
              "      <td>No</td>\n",
              "      <td>No</td>\n",
              "      <td>No</td>\n",
              "      <td>Yes</td>\n",
              "      <td>No</td>\n",
              "      <td>No</td>\n",
              "      <td>No</td>\n",
              "      <td>Yes</td>\n",
              "    </tr>\n",
              "    <tr>\n",
              "      <th>2</th>\n",
              "      <td>0.555022</td>\n",
              "      <td>-0.885975</td>\n",
              "      <td>-0.683514</td>\n",
              "      <td>-1.176506</td>\n",
              "      <td>-0.701921</td>\n",
              "      <td>-0.601495</td>\n",
              "      <td>-1.375713</td>\n",
              "      <td>-1.296417</td>\n",
              "      <td>-0.570334</td>\n",
              "      <td>-1.108893</td>\n",
              "      <td>...</td>\n",
              "      <td>No</td>\n",
              "      <td>No</td>\n",
              "      <td>No</td>\n",
              "      <td>No</td>\n",
              "      <td>No</td>\n",
              "      <td>Yes</td>\n",
              "      <td>No</td>\n",
              "      <td>No</td>\n",
              "      <td>No</td>\n",
              "      <td>Yes</td>\n",
              "    </tr>\n",
              "    <tr>\n",
              "      <th>3</th>\n",
              "      <td>0.697883</td>\n",
              "      <td>0.744287</td>\n",
              "      <td>-0.267210</td>\n",
              "      <td>0.575224</td>\n",
              "      <td>-0.701921</td>\n",
              "      <td>-0.601495</td>\n",
              "      <td>0.130093</td>\n",
              "      <td>0.771357</td>\n",
              "      <td>-0.570334</td>\n",
              "      <td>-0.231926</td>\n",
              "      <td>...</td>\n",
              "      <td>No</td>\n",
              "      <td>Yes</td>\n",
              "      <td>Yes</td>\n",
              "      <td>Yes</td>\n",
              "      <td>Yes</td>\n",
              "      <td>Yes</td>\n",
              "      <td>Yes</td>\n",
              "      <td>Yes</td>\n",
              "      <td>Yes</td>\n",
              "      <td>Yes</td>\n",
              "    </tr>\n",
              "    <tr>\n",
              "      <th>4</th>\n",
              "      <td>-0.035840</td>\n",
              "      <td>0.744287</td>\n",
              "      <td>1.340928</td>\n",
              "      <td>1.073010</td>\n",
              "      <td>0.424956</td>\n",
              "      <td>-0.601495</td>\n",
              "      <td>-0.613422</td>\n",
              "      <td>-1.296417</td>\n",
              "      <td>-0.570334</td>\n",
              "      <td>0.645040</td>\n",
              "      <td>...</td>\n",
              "      <td>No</td>\n",
              "      <td>No</td>\n",
              "      <td>No</td>\n",
              "      <td>Yes</td>\n",
              "      <td>Yes</td>\n",
              "      <td>Yes</td>\n",
              "      <td>No</td>\n",
              "      <td>Yes</td>\n",
              "      <td>Yes</td>\n",
              "      <td>Yes</td>\n",
              "    </tr>\n",
              "  </tbody>\n",
              "</table>\n",
              "<p>5 rows × 42 columns</p>\n",
              "</div>\n",
              "      <button class=\"colab-df-convert\" onclick=\"convertToInteractive('df-10afbc23-a374-4c8b-a2f0-c114a5e7236a')\"\n",
              "              title=\"Convert this dataframe to an interactive table.\"\n",
              "              style=\"display:none;\">\n",
              "        \n",
              "  <svg xmlns=\"http://www.w3.org/2000/svg\" height=\"24px\"viewBox=\"0 0 24 24\"\n",
              "       width=\"24px\">\n",
              "    <path d=\"M0 0h24v24H0V0z\" fill=\"none\"/>\n",
              "    <path d=\"M18.56 5.44l.94 2.06.94-2.06 2.06-.94-2.06-.94-.94-2.06-.94 2.06-2.06.94zm-11 1L8.5 8.5l.94-2.06 2.06-.94-2.06-.94L8.5 2.5l-.94 2.06-2.06.94zm10 10l.94 2.06.94-2.06 2.06-.94-2.06-.94-.94-2.06-.94 2.06-2.06.94z\"/><path d=\"M17.41 7.96l-1.37-1.37c-.4-.4-.92-.59-1.43-.59-.52 0-1.04.2-1.43.59L10.3 9.45l-7.72 7.72c-.78.78-.78 2.05 0 2.83L4 21.41c.39.39.9.59 1.41.59.51 0 1.02-.2 1.41-.59l7.78-7.78 2.81-2.81c.8-.78.8-2.07 0-2.86zM5.41 20L4 18.59l7.72-7.72 1.47 1.35L5.41 20z\"/>\n",
              "  </svg>\n",
              "      </button>\n",
              "      \n",
              "  <style>\n",
              "    .colab-df-container {\n",
              "      display:flex;\n",
              "      flex-wrap:wrap;\n",
              "      gap: 12px;\n",
              "    }\n",
              "\n",
              "    .colab-df-convert {\n",
              "      background-color: #E8F0FE;\n",
              "      border: none;\n",
              "      border-radius: 50%;\n",
              "      cursor: pointer;\n",
              "      display: none;\n",
              "      fill: #1967D2;\n",
              "      height: 32px;\n",
              "      padding: 0 0 0 0;\n",
              "      width: 32px;\n",
              "    }\n",
              "\n",
              "    .colab-df-convert:hover {\n",
              "      background-color: #E2EBFA;\n",
              "      box-shadow: 0px 1px 2px rgba(60, 64, 67, 0.3), 0px 1px 3px 1px rgba(60, 64, 67, 0.15);\n",
              "      fill: #174EA6;\n",
              "    }\n",
              "\n",
              "    [theme=dark] .colab-df-convert {\n",
              "      background-color: #3B4455;\n",
              "      fill: #D2E3FC;\n",
              "    }\n",
              "\n",
              "    [theme=dark] .colab-df-convert:hover {\n",
              "      background-color: #434B5C;\n",
              "      box-shadow: 0px 1px 3px 1px rgba(0, 0, 0, 0.15);\n",
              "      filter: drop-shadow(0px 1px 2px rgba(0, 0, 0, 0.3));\n",
              "      fill: #FFFFFF;\n",
              "    }\n",
              "  </style>\n",
              "\n",
              "      <script>\n",
              "        const buttonEl =\n",
              "          document.querySelector('#df-10afbc23-a374-4c8b-a2f0-c114a5e7236a button.colab-df-convert');\n",
              "        buttonEl.style.display =\n",
              "          google.colab.kernel.accessAllowed ? 'block' : 'none';\n",
              "\n",
              "        async function convertToInteractive(key) {\n",
              "          const element = document.querySelector('#df-10afbc23-a374-4c8b-a2f0-c114a5e7236a');\n",
              "          const dataTable =\n",
              "            await google.colab.kernel.invokeFunction('convertToInteractive',\n",
              "                                                     [key], {});\n",
              "          if (!dataTable) return;\n",
              "\n",
              "          const docLinkHtml = 'Like what you see? Visit the ' +\n",
              "            '<a target=\"_blank\" href=https://colab.research.google.com/notebooks/data_table.ipynb>data table notebook</a>'\n",
              "            + ' to learn more about interactive tables.';\n",
              "          element.innerHTML = '';\n",
              "          dataTable['output_type'] = 'display_data';\n",
              "          await google.colab.output.renderOutput(dataTable, element);\n",
              "          const docLink = document.createElement('div');\n",
              "          docLink.innerHTML = docLinkHtml;\n",
              "          element.appendChild(docLink);\n",
              "        }\n",
              "      </script>\n",
              "    </div>\n",
              "  </div>\n",
              "  "
            ]
          },
          "metadata": {},
          "execution_count": 94
        }
      ]
    },
    {
      "cell_type": "markdown",
      "source": [
        "# **Encoding**"
      ],
      "metadata": {
        "id": "VOZRRVhSZn0N"
      }
    },
    {
      "cell_type": "code",
      "source": [
        "#lets convert categorical data into numeric values, using OrdinalEncoder\n",
        "from sklearn.preprocessing import OrdinalEncoder\n",
        "enc = OrdinalEncoder()\n",
        "for i in X.columns:\n",
        "    if X[i].dtypes == \"object\" :\n",
        "        X[i] = enc.fit_transform(X[i].values.reshape(-1,1))"
      ],
      "metadata": {
        "id": "RdD4GERXZDM8"
      },
      "execution_count": null,
      "outputs": []
    },
    {
      "cell_type": "code",
      "source": [
        "#lets have a look at data after encoding\n",
        "X.head()"
      ],
      "metadata": {
        "colab": {
          "base_uri": "https://localhost:8080/",
          "height": 299
        },
        "id": "pegAicgmZmRY",
        "outputId": "e2db728a-8a5d-4da2-9628-8db2c8b7789f"
      },
      "execution_count": null,
      "outputs": [
        {
          "output_type": "execute_result",
          "data": {
            "text/plain": [
              "   policy_tenure  age_of_car  age_of_policyholder  population_density  \\\n",
              "0      -0.230283   -0.327096             1.412462           -0.964127   \n",
              "1       0.148188   -0.885975            -0.768508            0.808551   \n",
              "2       0.555022   -0.885975            -0.683514           -1.176506   \n",
              "3       0.697883    0.744287            -0.267210            0.575224   \n",
              "4      -0.035840    0.744287             1.340928            1.073010   \n",
              "\n",
              "       make   airbags  displacement  cylinder  gear_box  turning_radius  ...  \\\n",
              "0 -0.701921 -0.601495     -1.375713 -1.296417 -0.570334       -1.108893  ...   \n",
              "1 -0.701921 -0.601495     -1.375713 -1.296417 -0.570334       -1.108893  ...   \n",
              "2 -0.701921 -0.601495     -1.375713 -1.296417 -0.570334       -1.108893  ...   \n",
              "3 -0.701921 -0.601495      0.130093  0.771357 -0.570334       -0.231926  ...   \n",
              "4  0.424956 -0.601495     -0.613422 -1.296417 -0.570334        0.645040  ...   \n",
              "\n",
              "   is_rear_window_washer  is_rear_window_defogger  is_brake_assist  \\\n",
              "0                    0.0                      0.0              0.0   \n",
              "1                    0.0                      0.0              0.0   \n",
              "2                    0.0                      0.0              0.0   \n",
              "3                    0.0                      1.0              1.0   \n",
              "4                    0.0                      0.0              0.0   \n",
              "\n",
              "   is_power_door_locks  is_central_locking  is_power_steering  \\\n",
              "0                  0.0                 0.0                1.0   \n",
              "1                  0.0                 0.0                1.0   \n",
              "2                  0.0                 0.0                1.0   \n",
              "3                  1.0                 1.0                1.0   \n",
              "4                  1.0                 1.0                1.0   \n",
              "\n",
              "   is_driver_seat_height_adjustable  is_day_night_rear_view_mirror  is_ecw  \\\n",
              "0                               0.0                            0.0     0.0   \n",
              "1                               0.0                            0.0     0.0   \n",
              "2                               0.0                            0.0     0.0   \n",
              "3                               1.0                            1.0     1.0   \n",
              "4                               0.0                            1.0     1.0   \n",
              "\n",
              "   is_speed_alert  \n",
              "0             1.0  \n",
              "1             1.0  \n",
              "2             1.0  \n",
              "3             1.0  \n",
              "4             1.0  \n",
              "\n",
              "[5 rows x 42 columns]"
            ],
            "text/html": [
              "\n",
              "  <div id=\"df-0997cf88-da3f-4fae-8f61-94302449fc78\">\n",
              "    <div class=\"colab-df-container\">\n",
              "      <div>\n",
              "<style scoped>\n",
              "    .dataframe tbody tr th:only-of-type {\n",
              "        vertical-align: middle;\n",
              "    }\n",
              "\n",
              "    .dataframe tbody tr th {\n",
              "        vertical-align: top;\n",
              "    }\n",
              "\n",
              "    .dataframe thead th {\n",
              "        text-align: right;\n",
              "    }\n",
              "</style>\n",
              "<table border=\"1\" class=\"dataframe\">\n",
              "  <thead>\n",
              "    <tr style=\"text-align: right;\">\n",
              "      <th></th>\n",
              "      <th>policy_tenure</th>\n",
              "      <th>age_of_car</th>\n",
              "      <th>age_of_policyholder</th>\n",
              "      <th>population_density</th>\n",
              "      <th>make</th>\n",
              "      <th>airbags</th>\n",
              "      <th>displacement</th>\n",
              "      <th>cylinder</th>\n",
              "      <th>gear_box</th>\n",
              "      <th>turning_radius</th>\n",
              "      <th>...</th>\n",
              "      <th>is_rear_window_washer</th>\n",
              "      <th>is_rear_window_defogger</th>\n",
              "      <th>is_brake_assist</th>\n",
              "      <th>is_power_door_locks</th>\n",
              "      <th>is_central_locking</th>\n",
              "      <th>is_power_steering</th>\n",
              "      <th>is_driver_seat_height_adjustable</th>\n",
              "      <th>is_day_night_rear_view_mirror</th>\n",
              "      <th>is_ecw</th>\n",
              "      <th>is_speed_alert</th>\n",
              "    </tr>\n",
              "  </thead>\n",
              "  <tbody>\n",
              "    <tr>\n",
              "      <th>0</th>\n",
              "      <td>-0.230283</td>\n",
              "      <td>-0.327096</td>\n",
              "      <td>1.412462</td>\n",
              "      <td>-0.964127</td>\n",
              "      <td>-0.701921</td>\n",
              "      <td>-0.601495</td>\n",
              "      <td>-1.375713</td>\n",
              "      <td>-1.296417</td>\n",
              "      <td>-0.570334</td>\n",
              "      <td>-1.108893</td>\n",
              "      <td>...</td>\n",
              "      <td>0.0</td>\n",
              "      <td>0.0</td>\n",
              "      <td>0.0</td>\n",
              "      <td>0.0</td>\n",
              "      <td>0.0</td>\n",
              "      <td>1.0</td>\n",
              "      <td>0.0</td>\n",
              "      <td>0.0</td>\n",
              "      <td>0.0</td>\n",
              "      <td>1.0</td>\n",
              "    </tr>\n",
              "    <tr>\n",
              "      <th>1</th>\n",
              "      <td>0.148188</td>\n",
              "      <td>-0.885975</td>\n",
              "      <td>-0.768508</td>\n",
              "      <td>0.808551</td>\n",
              "      <td>-0.701921</td>\n",
              "      <td>-0.601495</td>\n",
              "      <td>-1.375713</td>\n",
              "      <td>-1.296417</td>\n",
              "      <td>-0.570334</td>\n",
              "      <td>-1.108893</td>\n",
              "      <td>...</td>\n",
              "      <td>0.0</td>\n",
              "      <td>0.0</td>\n",
              "      <td>0.0</td>\n",
              "      <td>0.0</td>\n",
              "      <td>0.0</td>\n",
              "      <td>1.0</td>\n",
              "      <td>0.0</td>\n",
              "      <td>0.0</td>\n",
              "      <td>0.0</td>\n",
              "      <td>1.0</td>\n",
              "    </tr>\n",
              "    <tr>\n",
              "      <th>2</th>\n",
              "      <td>0.555022</td>\n",
              "      <td>-0.885975</td>\n",
              "      <td>-0.683514</td>\n",
              "      <td>-1.176506</td>\n",
              "      <td>-0.701921</td>\n",
              "      <td>-0.601495</td>\n",
              "      <td>-1.375713</td>\n",
              "      <td>-1.296417</td>\n",
              "      <td>-0.570334</td>\n",
              "      <td>-1.108893</td>\n",
              "      <td>...</td>\n",
              "      <td>0.0</td>\n",
              "      <td>0.0</td>\n",
              "      <td>0.0</td>\n",
              "      <td>0.0</td>\n",
              "      <td>0.0</td>\n",
              "      <td>1.0</td>\n",
              "      <td>0.0</td>\n",
              "      <td>0.0</td>\n",
              "      <td>0.0</td>\n",
              "      <td>1.0</td>\n",
              "    </tr>\n",
              "    <tr>\n",
              "      <th>3</th>\n",
              "      <td>0.697883</td>\n",
              "      <td>0.744287</td>\n",
              "      <td>-0.267210</td>\n",
              "      <td>0.575224</td>\n",
              "      <td>-0.701921</td>\n",
              "      <td>-0.601495</td>\n",
              "      <td>0.130093</td>\n",
              "      <td>0.771357</td>\n",
              "      <td>-0.570334</td>\n",
              "      <td>-0.231926</td>\n",
              "      <td>...</td>\n",
              "      <td>0.0</td>\n",
              "      <td>1.0</td>\n",
              "      <td>1.0</td>\n",
              "      <td>1.0</td>\n",
              "      <td>1.0</td>\n",
              "      <td>1.0</td>\n",
              "      <td>1.0</td>\n",
              "      <td>1.0</td>\n",
              "      <td>1.0</td>\n",
              "      <td>1.0</td>\n",
              "    </tr>\n",
              "    <tr>\n",
              "      <th>4</th>\n",
              "      <td>-0.035840</td>\n",
              "      <td>0.744287</td>\n",
              "      <td>1.340928</td>\n",
              "      <td>1.073010</td>\n",
              "      <td>0.424956</td>\n",
              "      <td>-0.601495</td>\n",
              "      <td>-0.613422</td>\n",
              "      <td>-1.296417</td>\n",
              "      <td>-0.570334</td>\n",
              "      <td>0.645040</td>\n",
              "      <td>...</td>\n",
              "      <td>0.0</td>\n",
              "      <td>0.0</td>\n",
              "      <td>0.0</td>\n",
              "      <td>1.0</td>\n",
              "      <td>1.0</td>\n",
              "      <td>1.0</td>\n",
              "      <td>0.0</td>\n",
              "      <td>1.0</td>\n",
              "      <td>1.0</td>\n",
              "      <td>1.0</td>\n",
              "    </tr>\n",
              "  </tbody>\n",
              "</table>\n",
              "<p>5 rows × 42 columns</p>\n",
              "</div>\n",
              "      <button class=\"colab-df-convert\" onclick=\"convertToInteractive('df-0997cf88-da3f-4fae-8f61-94302449fc78')\"\n",
              "              title=\"Convert this dataframe to an interactive table.\"\n",
              "              style=\"display:none;\">\n",
              "        \n",
              "  <svg xmlns=\"http://www.w3.org/2000/svg\" height=\"24px\"viewBox=\"0 0 24 24\"\n",
              "       width=\"24px\">\n",
              "    <path d=\"M0 0h24v24H0V0z\" fill=\"none\"/>\n",
              "    <path d=\"M18.56 5.44l.94 2.06.94-2.06 2.06-.94-2.06-.94-.94-2.06-.94 2.06-2.06.94zm-11 1L8.5 8.5l.94-2.06 2.06-.94-2.06-.94L8.5 2.5l-.94 2.06-2.06.94zm10 10l.94 2.06.94-2.06 2.06-.94-2.06-.94-.94-2.06-.94 2.06-2.06.94z\"/><path d=\"M17.41 7.96l-1.37-1.37c-.4-.4-.92-.59-1.43-.59-.52 0-1.04.2-1.43.59L10.3 9.45l-7.72 7.72c-.78.78-.78 2.05 0 2.83L4 21.41c.39.39.9.59 1.41.59.51 0 1.02-.2 1.41-.59l7.78-7.78 2.81-2.81c.8-.78.8-2.07 0-2.86zM5.41 20L4 18.59l7.72-7.72 1.47 1.35L5.41 20z\"/>\n",
              "  </svg>\n",
              "      </button>\n",
              "      \n",
              "  <style>\n",
              "    .colab-df-container {\n",
              "      display:flex;\n",
              "      flex-wrap:wrap;\n",
              "      gap: 12px;\n",
              "    }\n",
              "\n",
              "    .colab-df-convert {\n",
              "      background-color: #E8F0FE;\n",
              "      border: none;\n",
              "      border-radius: 50%;\n",
              "      cursor: pointer;\n",
              "      display: none;\n",
              "      fill: #1967D2;\n",
              "      height: 32px;\n",
              "      padding: 0 0 0 0;\n",
              "      width: 32px;\n",
              "    }\n",
              "\n",
              "    .colab-df-convert:hover {\n",
              "      background-color: #E2EBFA;\n",
              "      box-shadow: 0px 1px 2px rgba(60, 64, 67, 0.3), 0px 1px 3px 1px rgba(60, 64, 67, 0.15);\n",
              "      fill: #174EA6;\n",
              "    }\n",
              "\n",
              "    [theme=dark] .colab-df-convert {\n",
              "      background-color: #3B4455;\n",
              "      fill: #D2E3FC;\n",
              "    }\n",
              "\n",
              "    [theme=dark] .colab-df-convert:hover {\n",
              "      background-color: #434B5C;\n",
              "      box-shadow: 0px 1px 3px 1px rgba(0, 0, 0, 0.15);\n",
              "      filter: drop-shadow(0px 1px 2px rgba(0, 0, 0, 0.3));\n",
              "      fill: #FFFFFF;\n",
              "    }\n",
              "  </style>\n",
              "\n",
              "      <script>\n",
              "        const buttonEl =\n",
              "          document.querySelector('#df-0997cf88-da3f-4fae-8f61-94302449fc78 button.colab-df-convert');\n",
              "        buttonEl.style.display =\n",
              "          google.colab.kernel.accessAllowed ? 'block' : 'none';\n",
              "\n",
              "        async function convertToInteractive(key) {\n",
              "          const element = document.querySelector('#df-0997cf88-da3f-4fae-8f61-94302449fc78');\n",
              "          const dataTable =\n",
              "            await google.colab.kernel.invokeFunction('convertToInteractive',\n",
              "                                                     [key], {});\n",
              "          if (!dataTable) return;\n",
              "\n",
              "          const docLinkHtml = 'Like what you see? Visit the ' +\n",
              "            '<a target=\"_blank\" href=https://colab.research.google.com/notebooks/data_table.ipynb>data table notebook</a>'\n",
              "            + ' to learn more about interactive tables.';\n",
              "          element.innerHTML = '';\n",
              "          dataTable['output_type'] = 'display_data';\n",
              "          await google.colab.output.renderOutput(dataTable, element);\n",
              "          const docLink = document.createElement('div');\n",
              "          docLink.innerHTML = docLinkHtml;\n",
              "          element.appendChild(docLink);\n",
              "        }\n",
              "      </script>\n",
              "    </div>\n",
              "  </div>\n",
              "  "
            ]
          },
          "metadata": {},
          "execution_count": 96
        }
      ]
    },
    {
      "cell_type": "code",
      "source": [
        "#check the shape\n",
        "X.shape"
      ],
      "metadata": {
        "colab": {
          "base_uri": "https://localhost:8080/"
        },
        "id": "SfaZMYg-ZmUN",
        "outputId": "ad39f514-f314-458a-e692-4135a1f62ec4"
      },
      "execution_count": null,
      "outputs": [
        {
          "output_type": "execute_result",
          "data": {
            "text/plain": [
              "(58592, 42)"
            ]
          },
          "metadata": {},
          "execution_count": 97
        }
      ]
    },
    {
      "cell_type": "code",
      "source": [
        "#check value count for target variable\n",
        "y.value_counts()"
      ],
      "metadata": {
        "colab": {
          "base_uri": "https://localhost:8080/"
        },
        "id": "4uxW332kZmW7",
        "outputId": "4a21b8ec-4a58-47ba-ca1e-d60cbe1f6587"
      },
      "execution_count": null,
      "outputs": [
        {
          "output_type": "execute_result",
          "data": {
            "text/plain": [
              "0    54844\n",
              "1     3748\n",
              "Name: is_claim, dtype: int64"
            ]
          },
          "metadata": {},
          "execution_count": 98
        }
      ]
    },
    {
      "cell_type": "markdown",
      "source": [
        "## ***Over sampling***"
      ],
      "metadata": {
        "id": "PJyPGX58Z677"
      }
    },
    {
      "cell_type": "code",
      "source": [
        "#lets do oversampling using SMOTE\n",
        "import imblearn\n",
        "from imblearn.over_sampling import SMOTE\n",
        "SM = SMOTE()\n",
        "x_over,y_over = SM.fit_resample(X,y)"
      ],
      "metadata": {
        "id": "QGRp2_aPZmZu"
      },
      "execution_count": null,
      "outputs": []
    },
    {
      "cell_type": "code",
      "source": [
        "#lets check the count of target variable now\n",
        "y_over.value_counts()"
      ],
      "metadata": {
        "colab": {
          "base_uri": "https://localhost:8080/"
        },
        "id": "TUFTfI8RZmcQ",
        "outputId": "acd4161e-fa59-4019-910b-8a01c8639ad7"
      },
      "execution_count": null,
      "outputs": [
        {
          "output_type": "execute_result",
          "data": {
            "text/plain": [
              "0    54844\n",
              "1    54844\n",
              "Name: is_claim, dtype: int64"
            ]
          },
          "metadata": {},
          "execution_count": 100
        }
      ]
    },
    {
      "cell_type": "markdown",
      "source": [
        "# ***Finding Best random state***"
      ],
      "metadata": {
        "id": "pLQYn4cLaDMA"
      }
    },
    {
      "cell_type": "code",
      "source": [
        "#Lets find the best random state using LogisticRegression\n",
        "from sklearn.linear_model import LogisticRegression\n",
        "max_accu = 0\n",
        "max_rs = 0\n",
        "for i in range(50,100):\n",
        "    x_train,x_test,y_train,y_test = train_test_split(x_over,y_over,test_size = 0.25, random_state = i)\n",
        "    LR = LogisticRegression()\n",
        "    LR.fit(x_train,y_train)\n",
        "    pred = LR.predict(x_test)\n",
        "    acc = accuracy_score(y_test,pred)\n",
        "    if acc > max_accu:\n",
        "        max_accu = acc\n",
        "        max_rs = i\n",
        "print(\"Best accuracy is\",max_accu,\"on Random State\",max_rs)"
      ],
      "metadata": {
        "colab": {
          "base_uri": "https://localhost:8080/"
        },
        "id": "62atHx9dZme0",
        "outputId": "510d74b9-d627-4e10-ee86-a5b200380a84"
      },
      "execution_count": null,
      "outputs": [
        {
          "output_type": "stream",
          "name": "stdout",
          "text": [
            "Best accuracy is 0.590146597622347 on Random State 59\n"
          ]
        }
      ]
    },
    {
      "cell_type": "code",
      "source": [
        "#lets split our data into train and test parts with best random_state\n",
        "x_train,x_test,y_train,y_test = train_test_split(x_over, y_over, test_size = 0.25, random_state = 59)"
      ],
      "metadata": {
        "id": "Weva_B91ZmhW"
      },
      "execution_count": null,
      "outputs": []
    },
    {
      "cell_type": "markdown",
      "source": [
        "## ***Model Building with Evaluation Metrics***"
      ],
      "metadata": {
        "id": "zW-GrvfbaaM3"
      }
    },
    {
      "cell_type": "markdown",
      "source": [
        "## ***LogisticRegression model***"
      ],
      "metadata": {
        "id": "ZglKtYOyaeJg"
      }
    },
    {
      "cell_type": "code",
      "source": [
        "#Lets check the model with LogisticRegression\n",
        "LR.fit(x_train,y_train)\n",
        "predlr = LR.predict(x_test)\n",
        "accuracy = accuracy_score(y_test,predlr)*100\n",
        "\n",
        "print(f\"Accuracy Score:\", accuracy)\n",
        "print(f\"roc_auc_score: {roc_auc_score(y_test,predlr)*100}\")\n",
        "print(\"---------------------------------------------------\")\n",
        "\n",
        "#confusion matrix & classification report\n",
        "print(f\"Confusion Matrix : \\n {confusion_matrix(y_test,predlr)}\\n\")\n",
        "print(f\"CLASSIFICATION REPORT : \\n {classification_report(y_test,predlr)}\")\n",
        "\n",
        "#cross validation score\n",
        "scores = cross_val_score(LR, x_over, y_over, cv = 5,scoring = \"accuracy\" ).mean()*100\n",
        "print(\"\\nCross validation score :\", scores)\n",
        "\n",
        "#result of accuracy minus cv score\n",
        "result = accuracy - scores\n",
        "print(\"\\nAccuracy Score - Cross Validation Score :\", result)"
      ],
      "metadata": {
        "colab": {
          "base_uri": "https://localhost:8080/"
        },
        "id": "HuytDszZZmkL",
        "outputId": "be664bb5-cc93-46e7-bc5d-86fadaa1303b"
      },
      "execution_count": null,
      "outputs": [
        {
          "output_type": "stream",
          "name": "stdout",
          "text": [
            "Accuracy Score: 58.092042885274594\n",
            "roc_auc_score: 58.10469727272155\n",
            "---------------------------------------------------\n",
            "Confusion Matrix : \n",
            " [[7624 6150]\n",
            " [5342 8306]]\n",
            "\n",
            "CLASSIFICATION REPORT : \n",
            "               precision    recall  f1-score   support\n",
            "\n",
            "           0       0.59      0.55      0.57     13774\n",
            "           1       0.57      0.61      0.59     13648\n",
            "\n",
            "    accuracy                           0.58     27422\n",
            "   macro avg       0.58      0.58      0.58     27422\n",
            "weighted avg       0.58      0.58      0.58     27422\n",
            "\n",
            "\n",
            "Cross validation score : 42.69558406451666\n",
            "\n",
            "Accuracy Score - Cross Validation Score : 15.396458820757935\n"
          ]
        }
      ]
    },
    {
      "cell_type": "markdown",
      "source": [
        "# **DecisionTreeClassifier model**"
      ],
      "metadata": {
        "id": "kXWM8R1eao_R"
      }
    },
    {
      "cell_type": "code",
      "source": [
        "#model with DecesionTreeClassifier\n",
        "from sklearn.tree import DecisionTreeClassifier\n",
        "dt = DecisionTreeClassifier()\n",
        "dt.fit(x_train,y_train)\n",
        "pred_dt = dt.predict(x_test)\n",
        "accuracy = accuracy_score(y_test,pred_dt)*100\n",
        "\n",
        "print(f\"Accuracy Score:\", accuracy)\n",
        "print(f\"roc_auc_score: {roc_auc_score(y_test,pred_dt)*100}\")\n",
        "print(\"---------------------------------------------------\")\n",
        "\n",
        "#confusion matrix & classification report\n",
        "print(f\"Confusion Matrix : \\n {confusion_matrix(y_test,pred_dt)}\\n\")\n",
        "print(f\"CLASSIFICATION REPORT : \\n {classification_report(y_test,pred_dt)}\")\n",
        "\n",
        "#cross validation score\n",
        "scores = cross_val_score(dt, x_over, y_over, cv = 5,scoring = \"accuracy\" ).mean()*100\n",
        "print(\"\\nCross validation score :\", scores)\n",
        "\n",
        "#result of accuracy minus cv score\n",
        "result = accuracy - scores\n",
        "print(\"\\n\\nAccuracy Score - Cross Validation Score :\", result)"
      ],
      "metadata": {
        "colab": {
          "base_uri": "https://localhost:8080/"
        },
        "id": "F2cQ6KG4ZmnH",
        "outputId": "7220cc86-e787-4eee-cc1b-a988dc897921"
      },
      "execution_count": null,
      "outputs": [
        {
          "output_type": "stream",
          "name": "stdout",
          "text": [
            "Accuracy Score: 92.05382539566772\n",
            "roc_auc_score: 92.05581920658234\n",
            "---------------------------------------------------\n",
            "Confusion Matrix : \n",
            " [[12620  1154]\n",
            " [ 1025 12623]]\n",
            "\n",
            "CLASSIFICATION REPORT : \n",
            "               precision    recall  f1-score   support\n",
            "\n",
            "           0       0.92      0.92      0.92     13774\n",
            "           1       0.92      0.92      0.92     13648\n",
            "\n",
            "    accuracy                           0.92     27422\n",
            "   macro avg       0.92      0.92      0.92     27422\n",
            "weighted avg       0.92      0.92      0.92     27422\n",
            "\n",
            "\n",
            "Cross validation score : 53.195451093128376\n",
            "\n",
            "\n",
            "Accuracy Score - Cross Validation Score : 38.85837430253934\n"
          ]
        }
      ]
    },
    {
      "cell_type": "markdown",
      "source": [
        "# **RandomForestClassifier model**"
      ],
      "metadata": {
        "id": "_dlY2S6Qaxic"
      }
    },
    {
      "cell_type": "code",
      "source": [
        "#model with RandomForestClassifier\n",
        "from sklearn.ensemble import RandomForestClassifier\n",
        "model = RandomForestClassifier()\n",
        "model.fit(x_train,y_train)\n",
        "pred_rf = model.predict(x_test)\n",
        "accuracy = accuracy_score(y_test,pred_rf)*100\n",
        "\n",
        "print(f\"Accuracy Score:\", accuracy)\n",
        "print(f\"\\nroc_auc_score: {roc_auc_score(y_test,pred_rf)*100}\")\n",
        "print(\"---------------------------------------------------\")\n",
        "\n",
        "#confusion matrix & classification report\n",
        "print(f\"Confusion Matrix : \\n {confusion_matrix(y_test,pred_rf)}\\n\")\n",
        "print(f\"CLASSIFICATION REPORT : \\n {classification_report(y_test,pred_rf)}\")\n",
        "\n",
        "#cross validation score\n",
        "scores = cross_val_score(rf, x_over, y_over, cv = 5,scoring = \"accuracy\" ).mean()*100\n",
        "print(\"\\nCross validation score :\", scores)\n",
        "\n",
        "#result of accuracy minus cv score\n",
        "result = accuracy - scores\n",
        "print(\"\\n\\nAccuracy Score - Cross Validation Score :\", result)"
      ],
      "metadata": {
        "colab": {
          "base_uri": "https://localhost:8080/"
        },
        "id": "-l48UGXnZmqb",
        "outputId": "e347c505-c5a9-4901-d6d2-1ff8e2864243"
      },
      "execution_count": null,
      "outputs": [
        {
          "output_type": "stream",
          "name": "stdout",
          "text": [
            "Accuracy Score: 91.07286120633069\n",
            "\n",
            "roc_auc_score: 91.07538804076121\n",
            "---------------------------------------------------\n",
            "Confusion Matrix : \n",
            " [[12362  1380]\n",
            " [ 1068 12612]]\n",
            "\n",
            "CLASSIFICATION REPORT : \n",
            "               precision    recall  f1-score   support\n",
            "\n",
            "           0       0.92      0.90      0.91     13742\n",
            "           1       0.90      0.92      0.91     13680\n",
            "\n",
            "    accuracy                           0.91     27422\n",
            "   macro avg       0.91      0.91      0.91     27422\n",
            "weighted avg       0.91      0.91      0.91     27422\n",
            "\n",
            "\n",
            "Cross validation score : 91.59162311297686\n",
            "\n",
            "\n",
            "Accuracy Score - Cross Validation Score : -0.5187619066461764\n"
          ]
        }
      ]
    },
    {
      "cell_type": "markdown",
      "source": [
        "# ***KNeighborsClassifier model***"
      ],
      "metadata": {
        "id": "1xjxaKzebDDE"
      }
    },
    {
      "cell_type": "code",
      "source": [
        "#model with KNeighborsClassifier\n",
        "from sklearn.neighbors import KNeighborsClassifier\n",
        "kn = KNeighborsClassifier()\n",
        "kn.fit(x_train,y_train)\n",
        "pred_kn = kn.predict(x_test)\n",
        "accuracy = accuracy_score(y_test,pred_kn)*100\n",
        "\n",
        "print(f\"Accuracy Score:\", accuracy)\n",
        "print(f\"roc_auc_score: {roc_auc_score(y_test,pred_kn)*100}\")\n",
        "print(\"---------------------------------------------------\")\n",
        "\n",
        "#confusion matrix & classification report\n",
        "print(f\"Confusion Matrix : \\n {confusion_matrix(y_test,pred_kn)}\\n\")\n",
        "print(f\"CLASSIFICATION REPORT : \\n {classification_report(y_test,pred_kn)}\")\n",
        "\n",
        "#cross validation score\n",
        "scores = cross_val_score(kn, x_over, y_over, cv = 5,scoring = \"accuracy\" ).mean()*100\n",
        "print(\"\\nCross validation score :\", scores)\n",
        "\n",
        "#result of accuracy minus cv score\n",
        "result = accuracy - scores\n",
        "print(\"\\n\\nAccuracy Score - Cross Validation Score :\", result)"
      ],
      "metadata": {
        "colab": {
          "base_uri": "https://localhost:8080/"
        },
        "id": "ATjSR3AlZmtl",
        "outputId": "1776b1e4-ea85-48f9-cfcd-56b154dba354"
      },
      "execution_count": null,
      "outputs": [
        {
          "output_type": "stream",
          "name": "stdout",
          "text": [
            "Accuracy Score: 76.45685945591131\n",
            "roc_auc_score: 76.53927319613162\n",
            "---------------------------------------------------\n",
            "Confusion Matrix : \n",
            " [[ 8072  5702]\n",
            " [  754 12894]]\n",
            "\n",
            "CLASSIFICATION REPORT : \n",
            "               precision    recall  f1-score   support\n",
            "\n",
            "           0       0.91      0.59      0.71     13774\n",
            "           1       0.69      0.94      0.80     13648\n",
            "\n",
            "    accuracy                           0.76     27422\n",
            "   macro avg       0.80      0.77      0.76     27422\n",
            "weighted avg       0.80      0.76      0.76     27422\n",
            "\n",
            "\n",
            "Cross validation score : 47.30052065281315\n",
            "\n",
            "\n",
            "Accuracy Score - Cross Validation Score : 29.156338803098166\n"
          ]
        }
      ]
    },
    {
      "cell_type": "markdown",
      "source": [
        "## ***XGBClassifier model***"
      ],
      "metadata": {
        "id": "wWrAv0FSbUeG"
      }
    },
    {
      "cell_type": "code",
      "source": [
        "#lets check with XGBClassifier model\n",
        "from xgboost import XGBClassifier\n",
        "xgb = XGBClassifier(verbosity = 0)\n",
        "xgb.fit(x_train,y_train)\n",
        "pred_xgb = xgb.predict(x_test)\n",
        "accuracy = accuracy_score(y_test,pred_xgb)*100\n",
        "\n",
        "print(f\"Accuracy Score:\", accuracy)\n",
        "print(f\"roc_auc_score: {roc_auc_score(y_test,pred_xgb)*100}\")\n",
        "print(\"---------------------------------------------------\")\n",
        "\n",
        "#confusion matrix & classification report\n",
        "print(f\"Confusion Matrix : \\n {confusion_matrix(y_test,pred_xgb)}\\n\")\n",
        "print(f\"CLASSIFICATION REPORT : \\n {classification_report(y_test,pred_xgb)}\")\n",
        "\n",
        "#cross validation score\n",
        "scores = cross_val_score(xgb, x_over, y_over, cv = 5,scoring = \"accuracy\" ).mean()*100\n",
        "print(\"\\nCross validation score :\", scores)\n",
        "\n",
        "#result of accuracy minus cv score\n",
        "result = accuracy - scores\n",
        "print(\"\\nAccuracy Score - Cross Validation Score :\", result)"
      ],
      "metadata": {
        "colab": {
          "base_uri": "https://localhost:8080/"
        },
        "id": "fh03cKykZmwK",
        "outputId": "5df0cb6d-87c3-491d-bdf3-94fa45eb5e99"
      },
      "execution_count": null,
      "outputs": [
        {
          "output_type": "stream",
          "name": "stdout",
          "text": [
            "Accuracy Score: 93.16242433082927\n",
            "roc_auc_score: 93.13900528903105\n",
            "---------------------------------------------------\n",
            "Confusion Matrix : \n",
            " [[13531   243]\n",
            " [ 1632 12016]]\n",
            "\n",
            "CLASSIFICATION REPORT : \n",
            "               precision    recall  f1-score   support\n",
            "\n",
            "           0       0.89      0.98      0.94     13774\n",
            "           1       0.98      0.88      0.93     13648\n",
            "\n",
            "    accuracy                           0.93     27422\n",
            "   macro avg       0.94      0.93      0.93     27422\n",
            "weighted avg       0.94      0.93      0.93     27422\n",
            "\n",
            "\n",
            "Cross validation score : 55.24577664414843\n",
            "\n",
            "Accuracy Score - Cross Validation Score : 37.91664768668084\n"
          ]
        }
      ]
    },
    {
      "cell_type": "markdown",
      "source": [
        "# **ExtraTreesClassifier model**"
      ],
      "metadata": {
        "id": "In1Hz9_NbcPK"
      }
    },
    {
      "cell_type": "code",
      "source": [
        "#lets check with Extra Trees Classifier\n",
        "from sklearn.ensemble import ExtraTreesClassifier\n",
        "ext = ExtraTreesClassifier()\n",
        "ext.fit(x_train,y_train)\n",
        "pred_ext = xgb.predict(x_test)\n",
        "accuracy = accuracy_score(y_test,pred_ext)*100\n",
        "\n",
        "print(f\"Accuracy Score:\", accuracy)\n",
        "print(f\"roc_auc_score: {roc_auc_score(y_test,pred_ext)*100}\")\n",
        "print(\"---------------------------------------------------\")\n",
        "\n",
        "#confusion matrix & classification report\n",
        "print(f\"Confusion Matrix : \\n {confusion_matrix(y_test,pred_ext)}\\n\")\n",
        "print(f\"CLASSIFICATION REPORT : \\n {classification_report(y_test,pred_ext)}\")\n",
        "\n",
        "#cross validation score\n",
        "scores = cross_val_score(ext, x_over, y_over, cv = 5,scoring = \"accuracy\" ).mean()*100\n",
        "print(\"\\nCross validation score :\", scores)\n",
        "\n",
        "#result of accuracy minus cv score\n",
        "result = accuracy - scores\n",
        "print(\"\\nAccuracy Score - Cross Validation Score :\", result)"
      ],
      "metadata": {
        "colab": {
          "base_uri": "https://localhost:8080/"
        },
        "id": "6kp_rXA_a0FL",
        "outputId": "b2615c0e-df7c-49fd-d32d-b6435cd949d7"
      },
      "execution_count": null,
      "outputs": [
        {
          "output_type": "stream",
          "name": "stdout",
          "text": [
            "Accuracy Score: 93.16242433082927\n",
            "roc_auc_score: 93.13900528903105\n",
            "---------------------------------------------------\n",
            "Confusion Matrix : \n",
            " [[13531   243]\n",
            " [ 1632 12016]]\n",
            "\n",
            "CLASSIFICATION REPORT : \n",
            "               precision    recall  f1-score   support\n",
            "\n",
            "           0       0.89      0.98      0.94     13774\n",
            "           1       0.98      0.88      0.93     13648\n",
            "\n",
            "    accuracy                           0.93     27422\n",
            "   macro avg       0.94      0.93      0.93     27422\n",
            "weighted avg       0.94      0.93      0.93     27422\n",
            "\n",
            "\n",
            "Cross validation score : 77.59823904681203\n",
            "\n",
            "Accuracy Score - Cross Validation Score : 15.564185284017242\n"
          ]
        }
      ]
    },
    {
      "cell_type": "markdown",
      "source": [
        "# ***AUC & ROC Curve***"
      ],
      "metadata": {
        "id": "5OcYezeJbjvx"
      }
    },
    {
      "cell_type": "code",
      "source": [
        "#Lets plot roc curve and check auc and performance of all algorithms\n",
        "from sklearn.metrics import plot_roc_curve\n",
        "disp = plot_roc_curve(LR, x_test, y_test)\n",
        "plot_roc_curve(dt, x_test, y_test, ax = disp.ax_)\n",
        "plot_roc_curve(rf, x_test, y_test, ax = disp.ax_)\n",
        "plot_roc_curve(kn, x_test, y_test, ax = disp.ax_)\n",
        "plot_roc_curve(xgb, x_test, y_test, ax = disp.ax_)\n",
        "plot_roc_curve(ext, x_test, y_test, ax = disp.ax_)\n",
        "plt.figure(figsize = (25,25))\n",
        "plt.show()"
      ],
      "metadata": {
        "colab": {
          "base_uri": "https://localhost:8080/",
          "height": 354
        },
        "id": "EqN9YxV_a0IW",
        "outputId": "134440fd-a52e-4330-b69b-7a75604251a7"
      },
      "execution_count": null,
      "outputs": [
        {
          "output_type": "display_data",
          "data": {
            "text/plain": [
              "<Figure size 432x288 with 1 Axes>"
            ],
            "image/png": "[encoded data removed]"
          },
          "metadata": {}
        },
        {
          "output_type": "display_data",
          "data": {
            "text/plain": [
              "<Figure size 1800x1800 with 0 Axes>"
            ]
          },
          "metadata": {}
        }
      ]
    },
    {
      "cell_type": "markdown",
      "source": [
        "We can see KNeighborsClassifier is giving least difference in accuracy and cv score but its AUC is very less\n",
        "\n",
        "RandomForestClassifier is giving least in accuracy and cv score next to KNeighborsClassifier, and its AUC also High, that is it is showing better model performance than KNeighborsClassifier.\n",
        "\n",
        "ExtraTreesClassifier and XGBClassifier are showing almost same AUC as RandomForestClassifier, but their the difference in accuracy and cv score is higher than RandomForestClassifier.\n",
        "\n",
        "Considering above observations I am selecting RandomForestClassifier as a best suitable algorithm for this model."
      ],
      "metadata": {
        "id": "eEGstlnFdCSl"
      }
    },
    {
      "cell_type": "markdown",
      "source": [
        "# ***Hyperparameter Tuning***"
      ],
      "metadata": {
        "id": "bCTEFs-ddFiP"
      }
    },
    {
      "cell_type": "code",
      "source": [
        "#lets selects different parameters for tuning\n",
        "grid_params = {\n",
        "               'criterion':['gini','entropy'],\n",
        "                'max_depth': [10,12,15,20,22],\n",
        "                'n_estimators':[500,700,1000,1200],\n",
        "                'max_features':['aoto','sqrt','log2'],\n",
        "                'min_samples_split': [2]\n",
        "                }"
      ],
      "metadata": {
        "id": "PWLWEqYfa0Lc"
      },
      "execution_count": null,
      "outputs": []
    },
    {
      "cell_type": "code",
      "source": [
        "#train the model with given parameters using GridSearchCV\n",
        "#GCV =  GridSearchCV(RandomForestClassifier(), grid_params, cv = 5)\n",
        "#GCV.fit(x_train,y_train)"
      ],
      "metadata": {
        "id": "BNQSMk6_a0OS"
      },
      "execution_count": null,
      "outputs": []
    },
    {
      "cell_type": "code",
      "source": [
        "#GCV.best_params_       #printing the best parameters found by GridSearchCV"
      ],
      "metadata": {
        "id": "pyT6oFeya0RR"
      },
      "execution_count": null,
      "outputs": []
    },
    {
      "cell_type": "code",
      "source": [
        "#lets check the results of final model with best parameters\n",
        "#model = RandomForestClassifier(criterion = 'gini', max_depth = 22, min_samples_split = 2,  n_estimators = 1200)\n",
        "#model.fit(x_train,y_train)\n",
        "#pred = model.predict(x_test)\n",
        "\n",
        "#print(f\"Accuracy Score: {accuracy_score(y_test,pred)*100}%\")\n",
        "#print(\"--------------------------------------------------------\")\n",
        "\n",
        "#print(f\"roc_auc_score: {roc_auc_score(y_test,pred)*100}%\")\n",
        "#print(\"--------------------------------------------------------\")\n",
        "\n",
        "#print(f\"Confusion Matrix : \\n {confusion_matrix(y_test,pred)}\\n\")\n",
        "#print(\"------------------------------------------------------------------------\")\n",
        "#print(f\"CLASSIFICATION REPORT : \\n {classification_report(y_test,pred)}\")"
      ],
      "metadata": {
        "id": "ZiiZM5s4a0T6"
      },
      "execution_count": null,
      "outputs": []
    },
    {
      "cell_type": "markdown",
      "source": [
        "# **AUC ROC CURVE for final model**\n"
      ],
      "metadata": {
        "id": "eDVFxYshdZS-"
      }
    },
    {
      "cell_type": "code",
      "source": [
        "plot_roc_curve(model, x_test, y_test)\n",
        "plt.title('ROC Curve for best model')\n",
        "plt.show()"
      ],
      "metadata": {
        "colab": {
          "base_uri": "https://localhost:8080/",
          "height": 337
        },
        "id": "i5qikf2Ra0X4",
        "outputId": "f11d9ac2-bc78-42d3-fc30-55cc57c40a31"
      },
      "execution_count": null,
      "outputs": [
        {
          "output_type": "display_data",
          "data": {
            "text/plain": [
              "<Figure size 432x288 with 1 Axes>"
            ],
            "image/png": "[encoded data removed]"
          },
          "metadata": {}
        }
      ]
    },
    {
      "cell_type": "markdown",
      "source": [
        "Great after hyperparameter tuning we got improvement in roc curve and AUC also."
      ],
      "metadata": {
        "id": "3NxC7MeZdlo7"
      }
    },
    {
      "cell_type": "markdown",
      "source": [
        "# ***Test_Data_Set***"
      ],
      "metadata": {
        "id": "KFRX039cdoWo"
      }
    },
    {
      "cell_type": "code",
      "source": [
        "test = pd.read_csv('/content/test.csv')\n",
        "test.head(5)"
      ],
      "metadata": {
        "colab": {
          "base_uri": "https://localhost:8080/",
          "height": 299
        },
        "id": "GX0WHRVKa0Z8",
        "outputId": "8af583a0-e944-4f25-9c54-168f07119fbe"
      },
      "execution_count": null,
      "outputs": [
        {
          "output_type": "execute_result",
          "data": {
            "text/plain": [
              "  policy_id  policy_tenure  age_of_car  age_of_policyholder area_cluster  \\\n",
              "0   ID58593       0.341732        0.00             0.586538           C3   \n",
              "1   ID58594       0.307241        0.13             0.442308           C8   \n",
              "2   ID58595       0.327924        0.12             0.451923           C8   \n",
              "3   ID58596       0.782654        0.01             0.461538           C5   \n",
              "4   ID58597       1.233404        0.02             0.634615           C5   \n",
              "\n",
              "   population_density  make segment model fuel_type  ...  \\\n",
              "0                4076     1       A    M1       CNG  ...   \n",
              "1                8794     1      B2    M6    Petrol  ...   \n",
              "2                8794     2       A    M3    Petrol  ...   \n",
              "3               34738     1       A    M1       CNG  ...   \n",
              "4               34738     1       A    M1       CNG  ...   \n",
              "\n",
              "  is_rear_window_defogger is_brake_assist is_power_door_locks  \\\n",
              "0                      No              No                  No   \n",
              "1                      No             Yes                 Yes   \n",
              "2                      No              No                 Yes   \n",
              "3                      No              No                  No   \n",
              "4                      No              No                  No   \n",
              "\n",
              "   is_central_locking is_power_steering is_driver_seat_height_adjustable  \\\n",
              "0                  No               Yes                               No   \n",
              "1                 Yes               Yes                              Yes   \n",
              "2                 Yes               Yes                               No   \n",
              "3                  No               Yes                               No   \n",
              "4                  No               Yes                               No   \n",
              "\n",
              "  is_day_night_rear_view_mirror is_ecw is_speed_alert ncap_rating  \n",
              "0                            No     No            Yes           0  \n",
              "1                           Yes    Yes            Yes           2  \n",
              "2                           Yes    Yes            Yes           2  \n",
              "3                            No     No            Yes           0  \n",
              "4                            No     No            Yes           0  \n",
              "\n",
              "[5 rows x 43 columns]"
            ],
            "text/html": [
              "\n",
              "  <div id=\"df-7cd04bf5-0f02-4186-a7c5-1576ef23b5d2\">\n",
              "    <div class=\"colab-df-container\">\n",
              "      <div>\n",
              "<style scoped>\n",
              "    .dataframe tbody tr th:only-of-type {\n",
              "        vertical-align: middle;\n",
              "    }\n",
              "\n",
              "    .dataframe tbody tr th {\n",
              "        vertical-align: top;\n",
              "    }\n",
              "\n",
              "    .dataframe thead th {\n",
              "        text-align: right;\n",
              "    }\n",
              "</style>\n",
              "<table border=\"1\" class=\"dataframe\">\n",
              "  <thead>\n",
              "    <tr style=\"text-align: right;\">\n",
              "      <th></th>\n",
              "      <th>policy_id</th>\n",
              "      <th>policy_tenure</th>\n",
              "      <th>age_of_car</th>\n",
              "      <th>age_of_policyholder</th>\n",
              "      <th>area_cluster</th>\n",
              "      <th>population_density</th>\n",
              "      <th>make</th>\n",
              "      <th>segment</th>\n",
              "      <th>model</th>\n",
              "      <th>fuel_type</th>\n",
              "      <th>...</th>\n",
              "      <th>is_rear_window_defogger</th>\n",
              "      <th>is_brake_assist</th>\n",
              "      <th>is_power_door_locks</th>\n",
              "      <th>is_central_locking</th>\n",
              "      <th>is_power_steering</th>\n",
              "      <th>is_driver_seat_height_adjustable</th>\n",
              "      <th>is_day_night_rear_view_mirror</th>\n",
              "      <th>is_ecw</th>\n",
              "      <th>is_speed_alert</th>\n",
              "      <th>ncap_rating</th>\n",
              "    </tr>\n",
              "  </thead>\n",
              "  <tbody>\n",
              "    <tr>\n",
              "      <th>0</th>\n",
              "      <td>ID58593</td>\n",
              "      <td>0.341732</td>\n",
              "      <td>0.00</td>\n",
              "      <td>0.586538</td>\n",
              "      <td>C3</td>\n",
              "      <td>4076</td>\n",
              "      <td>1</td>\n",
              "      <td>A</td>\n",
              "      <td>M1</td>\n",
              "      <td>CNG</td>\n",
              "      <td>...</td>\n",
              "      <td>No</td>\n",
              "      <td>No</td>\n",
              "      <td>No</td>\n",
              "      <td>No</td>\n",
              "      <td>Yes</td>\n",
              "      <td>No</td>\n",
              "      <td>No</td>\n",
              "      <td>No</td>\n",
              "      <td>Yes</td>\n",
              "      <td>0</td>\n",
              "    </tr>\n",
              "    <tr>\n",
              "      <th>1</th>\n",
              "      <td>ID58594</td>\n",
              "      <td>0.307241</td>\n",
              "      <td>0.13</td>\n",
              "      <td>0.442308</td>\n",
              "      <td>C8</td>\n",
              "      <td>8794</td>\n",
              "      <td>1</td>\n",
              "      <td>B2</td>\n",
              "      <td>M6</td>\n",
              "      <td>Petrol</td>\n",
              "      <td>...</td>\n",
              "      <td>No</td>\n",
              "      <td>Yes</td>\n",
              "      <td>Yes</td>\n",
              "      <td>Yes</td>\n",
              "      <td>Yes</td>\n",
              "      <td>Yes</td>\n",
              "      <td>Yes</td>\n",
              "      <td>Yes</td>\n",
              "      <td>Yes</td>\n",
              "      <td>2</td>\n",
              "    </tr>\n",
              "    <tr>\n",
              "      <th>2</th>\n",
              "      <td>ID58595</td>\n",
              "      <td>0.327924</td>\n",
              "      <td>0.12</td>\n",
              "      <td>0.451923</td>\n",
              "      <td>C8</td>\n",
              "      <td>8794</td>\n",
              "      <td>2</td>\n",
              "      <td>A</td>\n",
              "      <td>M3</td>\n",
              "      <td>Petrol</td>\n",
              "      <td>...</td>\n",
              "      <td>No</td>\n",
              "      <td>No</td>\n",
              "      <td>Yes</td>\n",
              "      <td>Yes</td>\n",
              "      <td>Yes</td>\n",
              "      <td>No</td>\n",
              "      <td>Yes</td>\n",
              "      <td>Yes</td>\n",
              "      <td>Yes</td>\n",
              "      <td>2</td>\n",
              "    </tr>\n",
              "    <tr>\n",
              "      <th>3</th>\n",
              "      <td>ID58596</td>\n",
              "      <td>0.782654</td>\n",
              "      <td>0.01</td>\n",
              "      <td>0.461538</td>\n",
              "      <td>C5</td>\n",
              "      <td>34738</td>\n",
              "      <td>1</td>\n",
              "      <td>A</td>\n",
              "      <td>M1</td>\n",
              "      <td>CNG</td>\n",
              "      <td>...</td>\n",
              "      <td>No</td>\n",
              "      <td>No</td>\n",
              "      <td>No</td>\n",
              "      <td>No</td>\n",
              "      <td>Yes</td>\n",
              "      <td>No</td>\n",
              "      <td>No</td>\n",
              "      <td>No</td>\n",
              "      <td>Yes</td>\n",
              "      <td>0</td>\n",
              "    </tr>\n",
              "    <tr>\n",
              "      <th>4</th>\n",
              "      <td>ID58597</td>\n",
              "      <td>1.233404</td>\n",
              "      <td>0.02</td>\n",
              "      <td>0.634615</td>\n",
              "      <td>C5</td>\n",
              "      <td>34738</td>\n",
              "      <td>1</td>\n",
              "      <td>A</td>\n",
              "      <td>M1</td>\n",
              "      <td>CNG</td>\n",
              "      <td>...</td>\n",
              "      <td>No</td>\n",
              "      <td>No</td>\n",
              "      <td>No</td>\n",
              "      <td>No</td>\n",
              "      <td>Yes</td>\n",
              "      <td>No</td>\n",
              "      <td>No</td>\n",
              "      <td>No</td>\n",
              "      <td>Yes</td>\n",
              "      <td>0</td>\n",
              "    </tr>\n",
              "  </tbody>\n",
              "</table>\n",
              "<p>5 rows × 43 columns</p>\n",
              "</div>\n",
              "      <button class=\"colab-df-convert\" onclick=\"convertToInteractive('df-7cd04bf5-0f02-4186-a7c5-1576ef23b5d2')\"\n",
              "              title=\"Convert this dataframe to an interactive table.\"\n",
              "              style=\"display:none;\">\n",
              "        \n",
              "  <svg xmlns=\"http://www.w3.org/2000/svg\" height=\"24px\"viewBox=\"0 0 24 24\"\n",
              "       width=\"24px\">\n",
              "    <path d=\"M0 0h24v24H0V0z\" fill=\"none\"/>\n",
              "    <path d=\"M18.56 5.44l.94 2.06.94-2.06 2.06-.94-2.06-.94-.94-2.06-.94 2.06-2.06.94zm-11 1L8.5 8.5l.94-2.06 2.06-.94-2.06-.94L8.5 2.5l-.94 2.06-2.06.94zm10 10l.94 2.06.94-2.06 2.06-.94-2.06-.94-.94-2.06-.94 2.06-2.06.94z\"/><path d=\"M17.41 7.96l-1.37-1.37c-.4-.4-.92-.59-1.43-.59-.52 0-1.04.2-1.43.59L10.3 9.45l-7.72 7.72c-.78.78-.78 2.05 0 2.83L4 21.41c.39.39.9.59 1.41.59.51 0 1.02-.2 1.41-.59l7.78-7.78 2.81-2.81c.8-.78.8-2.07 0-2.86zM5.41 20L4 18.59l7.72-7.72 1.47 1.35L5.41 20z\"/>\n",
              "  </svg>\n",
              "      </button>\n",
              "      \n",
              "  <style>\n",
              "    .colab-df-container {\n",
              "      display:flex;\n",
              "      flex-wrap:wrap;\n",
              "      gap: 12px;\n",
              "    }\n",
              "\n",
              "    .colab-df-convert {\n",
              "      background-color: #E8F0FE;\n",
              "      border: none;\n",
              "      border-radius: 50%;\n",
              "      cursor: pointer;\n",
              "      display: none;\n",
              "      fill: #1967D2;\n",
              "      height: 32px;\n",
              "      padding: 0 0 0 0;\n",
              "      width: 32px;\n",
              "    }\n",
              "\n",
              "    .colab-df-convert:hover {\n",
              "      background-color: #E2EBFA;\n",
              "      box-shadow: 0px 1px 2px rgba(60, 64, 67, 0.3), 0px 1px 3px 1px rgba(60, 64, 67, 0.15);\n",
              "      fill: #174EA6;\n",
              "    }\n",
              "\n",
              "    [theme=dark] .colab-df-convert {\n",
              "      background-color: #3B4455;\n",
              "      fill: #D2E3FC;\n",
              "    }\n",
              "\n",
              "    [theme=dark] .colab-df-convert:hover {\n",
              "      background-color: #434B5C;\n",
              "      box-shadow: 0px 1px 3px 1px rgba(0, 0, 0, 0.15);\n",
              "      filter: drop-shadow(0px 1px 2px rgba(0, 0, 0, 0.3));\n",
              "      fill: #FFFFFF;\n",
              "    }\n",
              "  </style>\n",
              "\n",
              "      <script>\n",
              "        const buttonEl =\n",
              "          document.querySelector('#df-7cd04bf5-0f02-4186-a7c5-1576ef23b5d2 button.colab-df-convert');\n",
              "        buttonEl.style.display =\n",
              "          google.colab.kernel.accessAllowed ? 'block' : 'none';\n",
              "\n",
              "        async function convertToInteractive(key) {\n",
              "          const element = document.querySelector('#df-7cd04bf5-0f02-4186-a7c5-1576ef23b5d2');\n",
              "          const dataTable =\n",
              "            await google.colab.kernel.invokeFunction('convertToInteractive',\n",
              "                                                     [key], {});\n",
              "          if (!dataTable) return;\n",
              "\n",
              "          const docLinkHtml = 'Like what you see? Visit the ' +\n",
              "            '<a target=\"_blank\" href=https://colab.research.google.com/notebooks/data_table.ipynb>data table notebook</a>'\n",
              "            + ' to learn more about interactive tables.';\n",
              "          element.innerHTML = '';\n",
              "          dataTable['output_type'] = 'display_data';\n",
              "          await google.colab.output.renderOutput(dataTable, element);\n",
              "          const docLink = document.createElement('div');\n",
              "          docLink.innerHTML = docLinkHtml;\n",
              "          element.appendChild(docLink);\n",
              "        }\n",
              "      </script>\n",
              "    </div>\n",
              "  </div>\n",
              "  "
            ]
          },
          "metadata": {},
          "execution_count": 107
        }
      ]
    },
    {
      "cell_type": "code",
      "source": [
        "L_ID = test['policy_id']\n",
        "test = test.drop(columns='policy_id')"
      ],
      "metadata": {
        "id": "GqUIMBQya0cn"
      },
      "execution_count": null,
      "outputs": []
    },
    {
      "cell_type": "code",
      "source": [
        "test.columns"
      ],
      "metadata": {
        "colab": {
          "base_uri": "https://localhost:8080/"
        },
        "id": "IV81LJlW_PM9",
        "outputId": "2d260c17-dea4-48dd-d243-0ef06650eaa8"
      },
      "execution_count": null,
      "outputs": [
        {
          "output_type": "execute_result",
          "data": {
            "text/plain": [
              "Index(['policy_tenure', 'age_of_car', 'age_of_policyholder', 'area_cluster',\n",
              "       'population_density', 'make', 'segment', 'model', 'fuel_type',\n",
              "       'max_torque', 'max_power', 'engine_type', 'airbags', 'is_esc',\n",
              "       'is_adjustable_steering', 'is_tpms', 'is_parking_sensors',\n",
              "       'is_parking_camera', 'rear_brakes_type', 'displacement', 'cylinder',\n",
              "       'transmission_type', 'gear_box', 'steering_type', 'turning_radius',\n",
              "       'length', 'width', 'height', 'gross_weight', 'is_front_fog_lights',\n",
              "       'is_rear_window_wiper', 'is_rear_window_washer',\n",
              "       'is_rear_window_defogger', 'is_brake_assist', 'is_power_door_locks',\n",
              "       'is_central_locking', 'is_power_steering',\n",
              "       'is_driver_seat_height_adjustable', 'is_day_night_rear_view_mirror',\n",
              "       'is_ecw', 'is_speed_alert', 'ncap_rating'],\n",
              "      dtype='object')"
            ]
          },
          "metadata": {},
          "execution_count": 109
        }
      ]
    },
    {
      "cell_type": "code",
      "source": [
        "test.shape"
      ],
      "metadata": {
        "colab": {
          "base_uri": "https://localhost:8080/"
        },
        "id": "Ut3ssljoa0fW",
        "outputId": "6014dd2b-b583-44b4-8930-f3ef7d261dc8"
      },
      "execution_count": null,
      "outputs": [
        {
          "output_type": "execute_result",
          "data": {
            "text/plain": [
              "(39063, 42)"
            ]
          },
          "metadata": {},
          "execution_count": 110
        }
      ]
    },
    {
      "cell_type": "code",
      "source": [
        "test.info()"
      ],
      "metadata": {
        "colab": {
          "base_uri": "https://localhost:8080/"
        },
        "id": "0Pp-W6D-a0iN",
        "outputId": "7182ac70-e342-40e2-b086-3c6d5a90328b"
      },
      "execution_count": null,
      "outputs": [
        {
          "output_type": "stream",
          "name": "stdout",
          "text": [
            "<class 'pandas.core.frame.DataFrame'>\n",
            "RangeIndex: 39063 entries, 0 to 39062\n",
            "Data columns (total 42 columns):\n",
            " #   Column                            Non-Null Count  Dtype  \n",
            "---  ------                            --------------  -----  \n",
            " 0   policy_tenure                     39063 non-null  float64\n",
            " 1   age_of_car                        39063 non-null  float64\n",
            " 2   age_of_policyholder               39063 non-null  float64\n",
            " 3   area_cluster                      39063 non-null  object \n",
            " 4   population_density                39063 non-null  int64  \n",
            " 5   make                              39063 non-null  int64  \n",
            " 6   segment                           39063 non-null  object \n",
            " 7   model                             39063 non-null  object \n",
            " 8   fuel_type                         39063 non-null  object \n",
            " 9   max_torque                        39063 non-null  object \n",
            " 10  max_power                         39063 non-null  object \n",
            " 11  engine_type                       39063 non-null  object \n",
            " 12  airbags                           39063 non-null  int64  \n",
            " 13  is_esc                            39063 non-null  object \n",
            " 14  is_adjustable_steering            39063 non-null  object \n",
            " 15  is_tpms                           39063 non-null  object \n",
            " 16  is_parking_sensors                39063 non-null  object \n",
            " 17  is_parking_camera                 39063 non-null  object \n",
            " 18  rear_brakes_type                  39063 non-null  object \n",
            " 19  displacement                      39063 non-null  int64  \n",
            " 20  cylinder                          39063 non-null  int64  \n",
            " 21  transmission_type                 39063 non-null  object \n",
            " 22  gear_box                          39063 non-null  int64  \n",
            " 23  steering_type                     39063 non-null  object \n",
            " 24  turning_radius                    39063 non-null  float64\n",
            " 25  length                            39063 non-null  int64  \n",
            " 26  width                             39063 non-null  int64  \n",
            " 27  height                            39063 non-null  int64  \n",
            " 28  gross_weight                      39063 non-null  int64  \n",
            " 29  is_front_fog_lights               39063 non-null  object \n",
            " 30  is_rear_window_wiper              39063 non-null  object \n",
            " 31  is_rear_window_washer             39063 non-null  object \n",
            " 32  is_rear_window_defogger           39063 non-null  object \n",
            " 33  is_brake_assist                   39063 non-null  object \n",
            " 34  is_power_door_locks               39063 non-null  object \n",
            " 35  is_central_locking                39063 non-null  object \n",
            " 36  is_power_steering                 39063 non-null  object \n",
            " 37  is_driver_seat_height_adjustable  39063 non-null  object \n",
            " 38  is_day_night_rear_view_mirror     39063 non-null  object \n",
            " 39  is_ecw                            39063 non-null  object \n",
            " 40  is_speed_alert                    39063 non-null  object \n",
            " 41  ncap_rating                       39063 non-null  int64  \n",
            "dtypes: float64(4), int64(11), object(27)\n",
            "memory usage: 12.5+ MB\n"
          ]
        }
      ]
    },
    {
      "cell_type": "code",
      "source": [
        "test.isna().sum()"
      ],
      "metadata": {
        "colab": {
          "base_uri": "https://localhost:8080/"
        },
        "id": "ZW-6MQTpa0lM",
        "outputId": "b9ff336d-013f-4a32-df40-f19d660a824d"
      },
      "execution_count": null,
      "outputs": [
        {
          "output_type": "execute_result",
          "data": {
            "text/plain": [
              "policy_tenure                       0\n",
              "age_of_car                          0\n",
              "age_of_policyholder                 0\n",
              "area_cluster                        0\n",
              "population_density                  0\n",
              "make                                0\n",
              "segment                             0\n",
              "model                               0\n",
              "fuel_type                           0\n",
              "max_torque                          0\n",
              "max_power                           0\n",
              "engine_type                         0\n",
              "airbags                             0\n",
              "is_esc                              0\n",
              "is_adjustable_steering              0\n",
              "is_tpms                             0\n",
              "is_parking_sensors                  0\n",
              "is_parking_camera                   0\n",
              "rear_brakes_type                    0\n",
              "displacement                        0\n",
              "cylinder                            0\n",
              "transmission_type                   0\n",
              "gear_box                            0\n",
              "steering_type                       0\n",
              "turning_radius                      0\n",
              "length                              0\n",
              "width                               0\n",
              "height                              0\n",
              "gross_weight                        0\n",
              "is_front_fog_lights                 0\n",
              "is_rear_window_wiper                0\n",
              "is_rear_window_washer               0\n",
              "is_rear_window_defogger             0\n",
              "is_brake_assist                     0\n",
              "is_power_door_locks                 0\n",
              "is_central_locking                  0\n",
              "is_power_steering                   0\n",
              "is_driver_seat_height_adjustable    0\n",
              "is_day_night_rear_view_mirror       0\n",
              "is_ecw                              0\n",
              "is_speed_alert                      0\n",
              "ncap_rating                         0\n",
              "dtype: int64"
            ]
          },
          "metadata": {},
          "execution_count": 112
        }
      ]
    },
    {
      "cell_type": "code",
      "source": [
        "#Lets check which columns contains '?'\n",
        "test[test.columns[(test == '?').any()]].nunique()\n"
      ],
      "metadata": {
        "colab": {
          "base_uri": "https://localhost:8080/"
        },
        "id": "fLyeBIJ7a0oH",
        "outputId": "9211c842-3105-4007-e432-477280a1d585"
      },
      "execution_count": null,
      "outputs": [
        {
          "output_type": "execute_result",
          "data": {
            "text/plain": [
              "Series([], dtype: float64)"
            ]
          },
          "metadata": {},
          "execution_count": 113
        }
      ]
    },
    {
      "cell_type": "code",
      "source": [
        "#lets separate numerical and categorical features for scaling and encoding\n",
        "num = test._get_numeric_data()\n",
        "cat = test.select_dtypes(include=['object'])"
      ],
      "metadata": {
        "id": "Q5zzyGUmeV2-"
      },
      "execution_count": null,
      "outputs": []
    },
    {
      "cell_type": "code",
      "source": [
        "#Lets bring all numerical features to common scale by applying standard scaler\n",
        "scaler = StandardScaler()\n",
        "test_num = scaler.fit_transform(num)\n",
        "test_num = pd.DataFrame(test_num,columns=num.columns)"
      ],
      "metadata": {
        "id": "dOhnP1UbeV53"
      },
      "execution_count": null,
      "outputs": []
    },
    {
      "cell_type": "code",
      "source": [
        "#combine both numerical and categorical features\n",
        "test = pd.concat([test_num,cat], axis = 1)"
      ],
      "metadata": {
        "id": "yMBRH0ZheV9q"
      },
      "execution_count": null,
      "outputs": []
    },
    {
      "cell_type": "code",
      "source": [
        "test.head(5)"
      ],
      "metadata": {
        "colab": {
          "base_uri": "https://localhost:8080/",
          "height": 299
        },
        "id": "2LVh2nFveWAO",
        "outputId": "95f3bfd4-a982-4387-e5a5-cb89ae26d165"
      },
      "execution_count": null,
      "outputs": [
        {
          "output_type": "execute_result",
          "data": {
            "text/plain": [
              "   policy_tenure  age_of_car  age_of_policyholder  population_density  \\\n",
              "0      -0.649573   -1.224820             0.962158           -0.835059   \n",
              "1      -0.732682    1.061771            -0.219379           -0.567777   \n",
              "2      -0.682845    0.885879            -0.140610           -0.567777   \n",
              "3       0.412892   -1.048929            -0.061841            0.901995   \n",
              "4       1.499038   -0.873037             1.356003            0.901995   \n",
              "\n",
              "       make   airbags  displacement  cylinder  gear_box  turning_radius  ...  \\\n",
              "0 -0.673119 -0.622425     -1.365875 -1.278996 -0.570857       -1.110344  ...   \n",
              "1 -0.673119 -0.622425      0.136339  0.781863 -0.570857       -0.233370  ...   \n",
              "2  0.208640 -0.622425     -0.605403 -1.278996 -0.570857        0.643603  ...   \n",
              "3 -0.673119 -0.622425     -1.365875 -1.278996 -0.570857       -1.110344  ...   \n",
              "4 -0.673119 -0.622425     -1.365875 -1.278996 -0.570857       -1.110344  ...   \n",
              "\n",
              "   is_rear_window_washer  is_rear_window_defogger  is_brake_assist  \\\n",
              "0                     No                       No               No   \n",
              "1                     No                       No              Yes   \n",
              "2                     No                       No               No   \n",
              "3                     No                       No               No   \n",
              "4                     No                       No               No   \n",
              "\n",
              "   is_power_door_locks  is_central_locking is_power_steering  \\\n",
              "0                   No                  No               Yes   \n",
              "1                  Yes                 Yes               Yes   \n",
              "2                  Yes                 Yes               Yes   \n",
              "3                   No                  No               Yes   \n",
              "4                   No                  No               Yes   \n",
              "\n",
              "  is_driver_seat_height_adjustable is_day_night_rear_view_mirror is_ecw  \\\n",
              "0                               No                            No     No   \n",
              "1                              Yes                           Yes    Yes   \n",
              "2                               No                           Yes    Yes   \n",
              "3                               No                            No     No   \n",
              "4                               No                            No     No   \n",
              "\n",
              "  is_speed_alert  \n",
              "0            Yes  \n",
              "1            Yes  \n",
              "2            Yes  \n",
              "3            Yes  \n",
              "4            Yes  \n",
              "\n",
              "[5 rows x 42 columns]"
            ],
            "text/html": [
              "\n",
              "  <div id=\"df-240020b6-6f5d-4eb3-8b62-378c2412dd5e\">\n",
              "    <div class=\"colab-df-container\">\n",
              "      <div>\n",
              "<style scoped>\n",
              "    .dataframe tbody tr th:only-of-type {\n",
              "        vertical-align: middle;\n",
              "    }\n",
              "\n",
              "    .dataframe tbody tr th {\n",
              "        vertical-align: top;\n",
              "    }\n",
              "\n",
              "    .dataframe thead th {\n",
              "        text-align: right;\n",
              "    }\n",
              "</style>\n",
              "<table border=\"1\" class=\"dataframe\">\n",
              "  <thead>\n",
              "    <tr style=\"text-align: right;\">\n",
              "      <th></th>\n",
              "      <th>policy_tenure</th>\n",
              "      <th>age_of_car</th>\n",
              "      <th>age_of_policyholder</th>\n",
              "      <th>population_density</th>\n",
              "      <th>make</th>\n",
              "      <th>airbags</th>\n",
              "      <th>displacement</th>\n",
              "      <th>cylinder</th>\n",
              "      <th>gear_box</th>\n",
              "      <th>turning_radius</th>\n",
              "      <th>...</th>\n",
              "      <th>is_rear_window_washer</th>\n",
              "      <th>is_rear_window_defogger</th>\n",
              "      <th>is_brake_assist</th>\n",
              "      <th>is_power_door_locks</th>\n",
              "      <th>is_central_locking</th>\n",
              "      <th>is_power_steering</th>\n",
              "      <th>is_driver_seat_height_adjustable</th>\n",
              "      <th>is_day_night_rear_view_mirror</th>\n",
              "      <th>is_ecw</th>\n",
              "      <th>is_speed_alert</th>\n",
              "    </tr>\n",
              "  </thead>\n",
              "  <tbody>\n",
              "    <tr>\n",
              "      <th>0</th>\n",
              "      <td>-0.649573</td>\n",
              "      <td>-1.224820</td>\n",
              "      <td>0.962158</td>\n",
              "      <td>-0.835059</td>\n",
              "      <td>-0.673119</td>\n",
              "      <td>-0.622425</td>\n",
              "      <td>-1.365875</td>\n",
              "      <td>-1.278996</td>\n",
              "      <td>-0.570857</td>\n",
              "      <td>-1.110344</td>\n",
              "      <td>...</td>\n",
              "      <td>No</td>\n",
              "      <td>No</td>\n",
              "      <td>No</td>\n",
              "      <td>No</td>\n",
              "      <td>No</td>\n",
              "      <td>Yes</td>\n",
              "      <td>No</td>\n",
              "      <td>No</td>\n",
              "      <td>No</td>\n",
              "      <td>Yes</td>\n",
              "    </tr>\n",
              "    <tr>\n",
              "      <th>1</th>\n",
              "      <td>-0.732682</td>\n",
              "      <td>1.061771</td>\n",
              "      <td>-0.219379</td>\n",
              "      <td>-0.567777</td>\n",
              "      <td>-0.673119</td>\n",
              "      <td>-0.622425</td>\n",
              "      <td>0.136339</td>\n",
              "      <td>0.781863</td>\n",
              "      <td>-0.570857</td>\n",
              "      <td>-0.233370</td>\n",
              "      <td>...</td>\n",
              "      <td>No</td>\n",
              "      <td>No</td>\n",
              "      <td>Yes</td>\n",
              "      <td>Yes</td>\n",
              "      <td>Yes</td>\n",
              "      <td>Yes</td>\n",
              "      <td>Yes</td>\n",
              "      <td>Yes</td>\n",
              "      <td>Yes</td>\n",
              "      <td>Yes</td>\n",
              "    </tr>\n",
              "    <tr>\n",
              "      <th>2</th>\n",
              "      <td>-0.682845</td>\n",
              "      <td>0.885879</td>\n",
              "      <td>-0.140610</td>\n",
              "      <td>-0.567777</td>\n",
              "      <td>0.208640</td>\n",
              "      <td>-0.622425</td>\n",
              "      <td>-0.605403</td>\n",
              "      <td>-1.278996</td>\n",
              "      <td>-0.570857</td>\n",
              "      <td>0.643603</td>\n",
              "      <td>...</td>\n",
              "      <td>No</td>\n",
              "      <td>No</td>\n",
              "      <td>No</td>\n",
              "      <td>Yes</td>\n",
              "      <td>Yes</td>\n",
              "      <td>Yes</td>\n",
              "      <td>No</td>\n",
              "      <td>Yes</td>\n",
              "      <td>Yes</td>\n",
              "      <td>Yes</td>\n",
              "    </tr>\n",
              "    <tr>\n",
              "      <th>3</th>\n",
              "      <td>0.412892</td>\n",
              "      <td>-1.048929</td>\n",
              "      <td>-0.061841</td>\n",
              "      <td>0.901995</td>\n",
              "      <td>-0.673119</td>\n",
              "      <td>-0.622425</td>\n",
              "      <td>-1.365875</td>\n",
              "      <td>-1.278996</td>\n",
              "      <td>-0.570857</td>\n",
              "      <td>-1.110344</td>\n",
              "      <td>...</td>\n",
              "      <td>No</td>\n",
              "      <td>No</td>\n",
              "      <td>No</td>\n",
              "      <td>No</td>\n",
              "      <td>No</td>\n",
              "      <td>Yes</td>\n",
              "      <td>No</td>\n",
              "      <td>No</td>\n",
              "      <td>No</td>\n",
              "      <td>Yes</td>\n",
              "    </tr>\n",
              "    <tr>\n",
              "      <th>4</th>\n",
              "      <td>1.499038</td>\n",
              "      <td>-0.873037</td>\n",
              "      <td>1.356003</td>\n",
              "      <td>0.901995</td>\n",
              "      <td>-0.673119</td>\n",
              "      <td>-0.622425</td>\n",
              "      <td>-1.365875</td>\n",
              "      <td>-1.278996</td>\n",
              "      <td>-0.570857</td>\n",
              "      <td>-1.110344</td>\n",
              "      <td>...</td>\n",
              "      <td>No</td>\n",
              "      <td>No</td>\n",
              "      <td>No</td>\n",
              "      <td>No</td>\n",
              "      <td>No</td>\n",
              "      <td>Yes</td>\n",
              "      <td>No</td>\n",
              "      <td>No</td>\n",
              "      <td>No</td>\n",
              "      <td>Yes</td>\n",
              "    </tr>\n",
              "  </tbody>\n",
              "</table>\n",
              "<p>5 rows × 42 columns</p>\n",
              "</div>\n",
              "      <button class=\"colab-df-convert\" onclick=\"convertToInteractive('df-240020b6-6f5d-4eb3-8b62-378c2412dd5e')\"\n",
              "              title=\"Convert this dataframe to an interactive table.\"\n",
              "              style=\"display:none;\">\n",
              "        \n",
              "  <svg xmlns=\"http://www.w3.org/2000/svg\" height=\"24px\"viewBox=\"0 0 24 24\"\n",
              "       width=\"24px\">\n",
              "    <path d=\"M0 0h24v24H0V0z\" fill=\"none\"/>\n",
              "    <path d=\"M18.56 5.44l.94 2.06.94-2.06 2.06-.94-2.06-.94-.94-2.06-.94 2.06-2.06.94zm-11 1L8.5 8.5l.94-2.06 2.06-.94-2.06-.94L8.5 2.5l-.94 2.06-2.06.94zm10 10l.94 2.06.94-2.06 2.06-.94-2.06-.94-.94-2.06-.94 2.06-2.06.94z\"/><path d=\"M17.41 7.96l-1.37-1.37c-.4-.4-.92-.59-1.43-.59-.52 0-1.04.2-1.43.59L10.3 9.45l-7.72 7.72c-.78.78-.78 2.05 0 2.83L4 21.41c.39.39.9.59 1.41.59.51 0 1.02-.2 1.41-.59l7.78-7.78 2.81-2.81c.8-.78.8-2.07 0-2.86zM5.41 20L4 18.59l7.72-7.72 1.47 1.35L5.41 20z\"/>\n",
              "  </svg>\n",
              "      </button>\n",
              "      \n",
              "  <style>\n",
              "    .colab-df-container {\n",
              "      display:flex;\n",
              "      flex-wrap:wrap;\n",
              "      gap: 12px;\n",
              "    }\n",
              "\n",
              "    .colab-df-convert {\n",
              "      background-color: #E8F0FE;\n",
              "      border: none;\n",
              "      border-radius: 50%;\n",
              "      cursor: pointer;\n",
              "      display: none;\n",
              "      fill: #1967D2;\n",
              "      height: 32px;\n",
              "      padding: 0 0 0 0;\n",
              "      width: 32px;\n",
              "    }\n",
              "\n",
              "    .colab-df-convert:hover {\n",
              "      background-color: #E2EBFA;\n",
              "      box-shadow: 0px 1px 2px rgba(60, 64, 67, 0.3), 0px 1px 3px 1px rgba(60, 64, 67, 0.15);\n",
              "      fill: #174EA6;\n",
              "    }\n",
              "\n",
              "    [theme=dark] .colab-df-convert {\n",
              "      background-color: #3B4455;\n",
              "      fill: #D2E3FC;\n",
              "    }\n",
              "\n",
              "    [theme=dark] .colab-df-convert:hover {\n",
              "      background-color: #434B5C;\n",
              "      box-shadow: 0px 1px 3px 1px rgba(0, 0, 0, 0.15);\n",
              "      filter: drop-shadow(0px 1px 2px rgba(0, 0, 0, 0.3));\n",
              "      fill: #FFFFFF;\n",
              "    }\n",
              "  </style>\n",
              "\n",
              "      <script>\n",
              "        const buttonEl =\n",
              "          document.querySelector('#df-240020b6-6f5d-4eb3-8b62-378c2412dd5e button.colab-df-convert');\n",
              "        buttonEl.style.display =\n",
              "          google.colab.kernel.accessAllowed ? 'block' : 'none';\n",
              "\n",
              "        async function convertToInteractive(key) {\n",
              "          const element = document.querySelector('#df-240020b6-6f5d-4eb3-8b62-378c2412dd5e');\n",
              "          const dataTable =\n",
              "            await google.colab.kernel.invokeFunction('convertToInteractive',\n",
              "                                                     [key], {});\n",
              "          if (!dataTable) return;\n",
              "\n",
              "          const docLinkHtml = 'Like what you see? Visit the ' +\n",
              "            '<a target=\"_blank\" href=https://colab.research.google.com/notebooks/data_table.ipynb>data table notebook</a>'\n",
              "            + ' to learn more about interactive tables.';\n",
              "          element.innerHTML = '';\n",
              "          dataTable['output_type'] = 'display_data';\n",
              "          await google.colab.output.renderOutput(dataTable, element);\n",
              "          const docLink = document.createElement('div');\n",
              "          docLink.innerHTML = docLinkHtml;\n",
              "          element.appendChild(docLink);\n",
              "        }\n",
              "      </script>\n",
              "    </div>\n",
              "  </div>\n",
              "  "
            ]
          },
          "metadata": {},
          "execution_count": 117
        }
      ]
    },
    {
      "cell_type": "code",
      "source": [
        "#lets convert categorical data into numeric values, using OrdinalEncoder\n",
        "from sklearn.preprocessing import OrdinalEncoder\n",
        "enc = OrdinalEncoder()\n",
        "for i in test.columns:\n",
        "    if test[i].dtypes == \"object\" :\n",
        "        test[i] = enc.fit_transform(test[i].values.reshape(-1,1))"
      ],
      "metadata": {
        "id": "nvAM7u44eWCs"
      },
      "execution_count": null,
      "outputs": []
    },
    {
      "cell_type": "code",
      "source": [
        "test.shape"
      ],
      "metadata": {
        "colab": {
          "base_uri": "https://localhost:8080/"
        },
        "id": "RHQ5zT3_eWIj",
        "outputId": "293d9ba4-9813-42d4-c613-3d3bd1bca01b"
      },
      "execution_count": null,
      "outputs": [
        {
          "output_type": "execute_result",
          "data": {
            "text/plain": [
              "(39063, 42)"
            ]
          },
          "metadata": {},
          "execution_count": 119
        }
      ]
    },
    {
      "cell_type": "code",
      "source": [
        "test.head(5)"
      ],
      "metadata": {
        "colab": {
          "base_uri": "https://localhost:8080/",
          "height": 299
        },
        "id": "fiKDecSWeWP-",
        "outputId": "9defa376-84f3-41e6-82cf-e00e908a5152"
      },
      "execution_count": null,
      "outputs": [
        {
          "output_type": "execute_result",
          "data": {
            "text/plain": [
              "   policy_tenure  age_of_car  age_of_policyholder  population_density  \\\n",
              "0      -0.649573   -1.224820             0.962158           -0.835059   \n",
              "1      -0.732682    1.061771            -0.219379           -0.567777   \n",
              "2      -0.682845    0.885879            -0.140610           -0.567777   \n",
              "3       0.412892   -1.048929            -0.061841            0.901995   \n",
              "4       1.499038   -0.873037             1.356003            0.901995   \n",
              "\n",
              "       make   airbags  displacement  cylinder  gear_box  turning_radius  ...  \\\n",
              "0 -0.673119 -0.622425     -1.365875 -1.278996 -0.570857       -1.110344  ...   \n",
              "1 -0.673119 -0.622425      0.136339  0.781863 -0.570857       -0.233370  ...   \n",
              "2  0.208640 -0.622425     -0.605403 -1.278996 -0.570857        0.643603  ...   \n",
              "3 -0.673119 -0.622425     -1.365875 -1.278996 -0.570857       -1.110344  ...   \n",
              "4 -0.673119 -0.622425     -1.365875 -1.278996 -0.570857       -1.110344  ...   \n",
              "\n",
              "   is_rear_window_washer  is_rear_window_defogger  is_brake_assist  \\\n",
              "0                    0.0                      0.0              0.0   \n",
              "1                    0.0                      0.0              1.0   \n",
              "2                    0.0                      0.0              0.0   \n",
              "3                    0.0                      0.0              0.0   \n",
              "4                    0.0                      0.0              0.0   \n",
              "\n",
              "   is_power_door_locks  is_central_locking  is_power_steering  \\\n",
              "0                  0.0                 0.0                1.0   \n",
              "1                  1.0                 1.0                1.0   \n",
              "2                  1.0                 1.0                1.0   \n",
              "3                  0.0                 0.0                1.0   \n",
              "4                  0.0                 0.0                1.0   \n",
              "\n",
              "   is_driver_seat_height_adjustable  is_day_night_rear_view_mirror  is_ecw  \\\n",
              "0                               0.0                            0.0     0.0   \n",
              "1                               1.0                            1.0     1.0   \n",
              "2                               0.0                            1.0     1.0   \n",
              "3                               0.0                            0.0     0.0   \n",
              "4                               0.0                            0.0     0.0   \n",
              "\n",
              "   is_speed_alert  \n",
              "0             1.0  \n",
              "1             1.0  \n",
              "2             1.0  \n",
              "3             1.0  \n",
              "4             1.0  \n",
              "\n",
              "[5 rows x 42 columns]"
            ],
            "text/html": [
              "\n",
              "  <div id=\"df-dc512165-6472-4caa-8dbb-faaf57cd1d2c\">\n",
              "    <div class=\"colab-df-container\">\n",
              "      <div>\n",
              "<style scoped>\n",
              "    .dataframe tbody tr th:only-of-type {\n",
              "        vertical-align: middle;\n",
              "    }\n",
              "\n",
              "    .dataframe tbody tr th {\n",
              "        vertical-align: top;\n",
              "    }\n",
              "\n",
              "    .dataframe thead th {\n",
              "        text-align: right;\n",
              "    }\n",
              "</style>\n",
              "<table border=\"1\" class=\"dataframe\">\n",
              "  <thead>\n",
              "    <tr style=\"text-align: right;\">\n",
              "      <th></th>\n",
              "      <th>policy_tenure</th>\n",
              "      <th>age_of_car</th>\n",
              "      <th>age_of_policyholder</th>\n",
              "      <th>population_density</th>\n",
              "      <th>make</th>\n",
              "      <th>airbags</th>\n",
              "      <th>displacement</th>\n",
              "      <th>cylinder</th>\n",
              "      <th>gear_box</th>\n",
              "      <th>turning_radius</th>\n",
              "      <th>...</th>\n",
              "      <th>is_rear_window_washer</th>\n",
              "      <th>is_rear_window_defogger</th>\n",
              "      <th>is_brake_assist</th>\n",
              "      <th>is_power_door_locks</th>\n",
              "      <th>is_central_locking</th>\n",
              "      <th>is_power_steering</th>\n",
              "      <th>is_driver_seat_height_adjustable</th>\n",
              "      <th>is_day_night_rear_view_mirror</th>\n",
              "      <th>is_ecw</th>\n",
              "      <th>is_speed_alert</th>\n",
              "    </tr>\n",
              "  </thead>\n",
              "  <tbody>\n",
              "    <tr>\n",
              "      <th>0</th>\n",
              "      <td>-0.649573</td>\n",
              "      <td>-1.224820</td>\n",
              "      <td>0.962158</td>\n",
              "      <td>-0.835059</td>\n",
              "      <td>-0.673119</td>\n",
              "      <td>-0.622425</td>\n",
              "      <td>-1.365875</td>\n",
              "      <td>-1.278996</td>\n",
              "      <td>-0.570857</td>\n",
              "      <td>-1.110344</td>\n",
              "      <td>...</td>\n",
              "      <td>0.0</td>\n",
              "      <td>0.0</td>\n",
              "      <td>0.0</td>\n",
              "      <td>0.0</td>\n",
              "      <td>0.0</td>\n",
              "      <td>1.0</td>\n",
              "      <td>0.0</td>\n",
              "      <td>0.0</td>\n",
              "      <td>0.0</td>\n",
              "      <td>1.0</td>\n",
              "    </tr>\n",
              "    <tr>\n",
              "      <th>1</th>\n",
              "      <td>-0.732682</td>\n",
              "      <td>1.061771</td>\n",
              "      <td>-0.219379</td>\n",
              "      <td>-0.567777</td>\n",
              "      <td>-0.673119</td>\n",
              "      <td>-0.622425</td>\n",
              "      <td>0.136339</td>\n",
              "      <td>0.781863</td>\n",
              "      <td>-0.570857</td>\n",
              "      <td>-0.233370</td>\n",
              "      <td>...</td>\n",
              "      <td>0.0</td>\n",
              "      <td>0.0</td>\n",
              "      <td>1.0</td>\n",
              "      <td>1.0</td>\n",
              "      <td>1.0</td>\n",
              "      <td>1.0</td>\n",
              "      <td>1.0</td>\n",
              "      <td>1.0</td>\n",
              "      <td>1.0</td>\n",
              "      <td>1.0</td>\n",
              "    </tr>\n",
              "    <tr>\n",
              "      <th>2</th>\n",
              "      <td>-0.682845</td>\n",
              "      <td>0.885879</td>\n",
              "      <td>-0.140610</td>\n",
              "      <td>-0.567777</td>\n",
              "      <td>0.208640</td>\n",
              "      <td>-0.622425</td>\n",
              "      <td>-0.605403</td>\n",
              "      <td>-1.278996</td>\n",
              "      <td>-0.570857</td>\n",
              "      <td>0.643603</td>\n",
              "      <td>...</td>\n",
              "      <td>0.0</td>\n",
              "      <td>0.0</td>\n",
              "      <td>0.0</td>\n",
              "      <td>1.0</td>\n",
              "      <td>1.0</td>\n",
              "      <td>1.0</td>\n",
              "      <td>0.0</td>\n",
              "      <td>1.0</td>\n",
              "      <td>1.0</td>\n",
              "      <td>1.0</td>\n",
              "    </tr>\n",
              "    <tr>\n",
              "      <th>3</th>\n",
              "      <td>0.412892</td>\n",
              "      <td>-1.048929</td>\n",
              "      <td>-0.061841</td>\n",
              "      <td>0.901995</td>\n",
              "      <td>-0.673119</td>\n",
              "      <td>-0.622425</td>\n",
              "      <td>-1.365875</td>\n",
              "      <td>-1.278996</td>\n",
              "      <td>-0.570857</td>\n",
              "      <td>-1.110344</td>\n",
              "      <td>...</td>\n",
              "      <td>0.0</td>\n",
              "      <td>0.0</td>\n",
              "      <td>0.0</td>\n",
              "      <td>0.0</td>\n",
              "      <td>0.0</td>\n",
              "      <td>1.0</td>\n",
              "      <td>0.0</td>\n",
              "      <td>0.0</td>\n",
              "      <td>0.0</td>\n",
              "      <td>1.0</td>\n",
              "    </tr>\n",
              "    <tr>\n",
              "      <th>4</th>\n",
              "      <td>1.499038</td>\n",
              "      <td>-0.873037</td>\n",
              "      <td>1.356003</td>\n",
              "      <td>0.901995</td>\n",
              "      <td>-0.673119</td>\n",
              "      <td>-0.622425</td>\n",
              "      <td>-1.365875</td>\n",
              "      <td>-1.278996</td>\n",
              "      <td>-0.570857</td>\n",
              "      <td>-1.110344</td>\n",
              "      <td>...</td>\n",
              "      <td>0.0</td>\n",
              "      <td>0.0</td>\n",
              "      <td>0.0</td>\n",
              "      <td>0.0</td>\n",
              "      <td>0.0</td>\n",
              "      <td>1.0</td>\n",
              "      <td>0.0</td>\n",
              "      <td>0.0</td>\n",
              "      <td>0.0</td>\n",
              "      <td>1.0</td>\n",
              "    </tr>\n",
              "  </tbody>\n",
              "</table>\n",
              "<p>5 rows × 42 columns</p>\n",
              "</div>\n",
              "      <button class=\"colab-df-convert\" onclick=\"convertToInteractive('df-dc512165-6472-4caa-8dbb-faaf57cd1d2c')\"\n",
              "              title=\"Convert this dataframe to an interactive table.\"\n",
              "              style=\"display:none;\">\n",
              "        \n",
              "  <svg xmlns=\"http://www.w3.org/2000/svg\" height=\"24px\"viewBox=\"0 0 24 24\"\n",
              "       width=\"24px\">\n",
              "    <path d=\"M0 0h24v24H0V0z\" fill=\"none\"/>\n",
              "    <path d=\"M18.56 5.44l.94 2.06.94-2.06 2.06-.94-2.06-.94-.94-2.06-.94 2.06-2.06.94zm-11 1L8.5 8.5l.94-2.06 2.06-.94-2.06-.94L8.5 2.5l-.94 2.06-2.06.94zm10 10l.94 2.06.94-2.06 2.06-.94-2.06-.94-.94-2.06-.94 2.06-2.06.94z\"/><path d=\"M17.41 7.96l-1.37-1.37c-.4-.4-.92-.59-1.43-.59-.52 0-1.04.2-1.43.59L10.3 9.45l-7.72 7.72c-.78.78-.78 2.05 0 2.83L4 21.41c.39.39.9.59 1.41.59.51 0 1.02-.2 1.41-.59l7.78-7.78 2.81-2.81c.8-.78.8-2.07 0-2.86zM5.41 20L4 18.59l7.72-7.72 1.47 1.35L5.41 20z\"/>\n",
              "  </svg>\n",
              "      </button>\n",
              "      \n",
              "  <style>\n",
              "    .colab-df-container {\n",
              "      display:flex;\n",
              "      flex-wrap:wrap;\n",
              "      gap: 12px;\n",
              "    }\n",
              "\n",
              "    .colab-df-convert {\n",
              "      background-color: #E8F0FE;\n",
              "      border: none;\n",
              "      border-radius: 50%;\n",
              "      cursor: pointer;\n",
              "      display: none;\n",
              "      fill: #1967D2;\n",
              "      height: 32px;\n",
              "      padding: 0 0 0 0;\n",
              "      width: 32px;\n",
              "    }\n",
              "\n",
              "    .colab-df-convert:hover {\n",
              "      background-color: #E2EBFA;\n",
              "      box-shadow: 0px 1px 2px rgba(60, 64, 67, 0.3), 0px 1px 3px 1px rgba(60, 64, 67, 0.15);\n",
              "      fill: #174EA6;\n",
              "    }\n",
              "\n",
              "    [theme=dark] .colab-df-convert {\n",
              "      background-color: #3B4455;\n",
              "      fill: #D2E3FC;\n",
              "    }\n",
              "\n",
              "    [theme=dark] .colab-df-convert:hover {\n",
              "      background-color: #434B5C;\n",
              "      box-shadow: 0px 1px 3px 1px rgba(0, 0, 0, 0.15);\n",
              "      filter: drop-shadow(0px 1px 2px rgba(0, 0, 0, 0.3));\n",
              "      fill: #FFFFFF;\n",
              "    }\n",
              "  </style>\n",
              "\n",
              "      <script>\n",
              "        const buttonEl =\n",
              "          document.querySelector('#df-dc512165-6472-4caa-8dbb-faaf57cd1d2c button.colab-df-convert');\n",
              "        buttonEl.style.display =\n",
              "          google.colab.kernel.accessAllowed ? 'block' : 'none';\n",
              "\n",
              "        async function convertToInteractive(key) {\n",
              "          const element = document.querySelector('#df-dc512165-6472-4caa-8dbb-faaf57cd1d2c');\n",
              "          const dataTable =\n",
              "            await google.colab.kernel.invokeFunction('convertToInteractive',\n",
              "                                                     [key], {});\n",
              "          if (!dataTable) return;\n",
              "\n",
              "          const docLinkHtml = 'Like what you see? Visit the ' +\n",
              "            '<a target=\"_blank\" href=https://colab.research.google.com/notebooks/data_table.ipynb>data table notebook</a>'\n",
              "            + ' to learn more about interactive tables.';\n",
              "          element.innerHTML = '';\n",
              "          dataTable['output_type'] = 'display_data';\n",
              "          await google.colab.output.renderOutput(dataTable, element);\n",
              "          const docLink = document.createElement('div');\n",
              "          docLink.innerHTML = docLinkHtml;\n",
              "          element.appendChild(docLink);\n",
              "        }\n",
              "      </script>\n",
              "    </div>\n",
              "  </div>\n",
              "  "
            ]
          },
          "metadata": {},
          "execution_count": 120
        }
      ]
    },
    {
      "cell_type": "code",
      "source": [
        "#lets predict the price with our best model\n",
        "prediction = model.predict(test)"
      ],
      "metadata": {
        "id": "eScnWqSreng0"
      },
      "execution_count": null,
      "outputs": []
    },
    {
      "cell_type": "code",
      "source": [
        "prediction"
      ],
      "metadata": {
        "colab": {
          "base_uri": "https://localhost:8080/"
        },
        "id": "72Tw2M_-enkC",
        "outputId": "0adc6606-62e3-4536-fb17-ba5e9df13ef9"
      },
      "execution_count": null,
      "outputs": [
        {
          "output_type": "execute_result",
          "data": {
            "text/plain": [
              "array([1, 1, 0, ..., 1, 1, 0])"
            ]
          },
          "metadata": {},
          "execution_count": 122
        }
      ]
    },
    {
      "cell_type": "code",
      "source": [
        "df.columns"
      ],
      "metadata": {
        "colab": {
          "base_uri": "https://localhost:8080/"
        },
        "id": "FhlPyPN2CrtC",
        "outputId": "83aeedb7-6a54-4292-b8a3-6ffd9016e72b"
      },
      "execution_count": null,
      "outputs": [
        {
          "output_type": "execute_result",
          "data": {
            "text/plain": [
              "Index(['policy_tenure', 'age_of_car', 'age_of_policyholder', 'area_cluster',\n",
              "       'population_density', 'make', 'segment', 'model', 'fuel_type',\n",
              "       'max_torque', 'max_power', 'engine_type', 'airbags', 'is_esc',\n",
              "       'is_adjustable_steering', 'is_tpms', 'is_parking_sensors',\n",
              "       'is_parking_camera', 'rear_brakes_type', 'displacement', 'cylinder',\n",
              "       'transmission_type', 'gear_box', 'steering_type', 'turning_radius',\n",
              "       'length', 'width', 'height', 'gross_weight', 'is_front_fog_lights',\n",
              "       'is_rear_window_wiper', 'is_rear_window_washer',\n",
              "       'is_rear_window_defogger', 'is_brake_assist', 'is_power_door_locks',\n",
              "       'is_central_locking', 'is_power_steering',\n",
              "       'is_driver_seat_height_adjustable', 'is_day_night_rear_view_mirror',\n",
              "       'is_ecw', 'is_speed_alert', 'ncap_rating', 'is_claim'],\n",
              "      dtype='object')"
            ]
          },
          "metadata": {},
          "execution_count": 123
        }
      ]
    },
    {
      "cell_type": "code",
      "source": [
        "#lets make the dataframe for prediction\n",
        "Loan_st = pd.DataFrame(prediction, columns=[\"is_claim\"])"
      ],
      "metadata": {
        "id": "obSyk31tenng"
      },
      "execution_count": null,
      "outputs": []
    },
    {
      "cell_type": "code",
      "source": [
        "Loan_st.shape"
      ],
      "metadata": {
        "colab": {
          "base_uri": "https://localhost:8080/"
        },
        "id": "Zu7dQ8pGenqN",
        "outputId": "aa4ba013-1588-43bb-c8c9-aac5eafc062d"
      },
      "execution_count": null,
      "outputs": [
        {
          "output_type": "execute_result",
          "data": {
            "text/plain": [
              "(39063, 1)"
            ]
          },
          "metadata": {},
          "execution_count": 125
        }
      ]
    },
    {
      "cell_type": "code",
      "source": [
        "L_ID.shape"
      ],
      "metadata": {
        "colab": {
          "base_uri": "https://localhost:8080/"
        },
        "id": "rSRycqHQens8",
        "outputId": "d2a48558-bb87-466a-db1b-010b2e5be223"
      },
      "execution_count": null,
      "outputs": [
        {
          "output_type": "execute_result",
          "data": {
            "text/plain": [
              "(39063,)"
            ]
          },
          "metadata": {},
          "execution_count": 127
        }
      ]
    },
    {
      "cell_type": "code",
      "source": [
        "loan_file = pd.concat([L_ID, Loan_st], axis = 1)"
      ],
      "metadata": {
        "id": "fAgWWshOenv3"
      },
      "execution_count": null,
      "outputs": []
    },
    {
      "cell_type": "code",
      "source": [
        "loan_file.head(5)"
      ],
      "metadata": {
        "colab": {
          "base_uri": "https://localhost:8080/",
          "height": 206
        },
        "id": "joIh-6eueWTc",
        "outputId": "75ef78d4-7abe-4519-910f-7ca04d57100d"
      },
      "execution_count": null,
      "outputs": [
        {
          "output_type": "execute_result",
          "data": {
            "text/plain": [
              "  policy_id  is_claim\n",
              "0   ID58593         1\n",
              "1   ID58594         1\n",
              "2   ID58595         0\n",
              "3   ID58596         1\n",
              "4   ID58597         0"
            ],
            "text/html": [
              "\n",
              "  <div id=\"df-afa3a061-180e-47a8-a9fb-b79ef394bf9a\">\n",
              "    <div class=\"colab-df-container\">\n",
              "      <div>\n",
              "<style scoped>\n",
              "    .dataframe tbody tr th:only-of-type {\n",
              "        vertical-align: middle;\n",
              "    }\n",
              "\n",
              "    .dataframe tbody tr th {\n",
              "        vertical-align: top;\n",
              "    }\n",
              "\n",
              "    .dataframe thead th {\n",
              "        text-align: right;\n",
              "    }\n",
              "</style>\n",
              "<table border=\"1\" class=\"dataframe\">\n",
              "  <thead>\n",
              "    <tr style=\"text-align: right;\">\n",
              "      <th></th>\n",
              "      <th>policy_id</th>\n",
              "      <th>is_claim</th>\n",
              "    </tr>\n",
              "  </thead>\n",
              "  <tbody>\n",
              "    <tr>\n",
              "      <th>0</th>\n",
              "      <td>ID58593</td>\n",
              "      <td>1</td>\n",
              "    </tr>\n",
              "    <tr>\n",
              "      <th>1</th>\n",
              "      <td>ID58594</td>\n",
              "      <td>1</td>\n",
              "    </tr>\n",
              "    <tr>\n",
              "      <th>2</th>\n",
              "      <td>ID58595</td>\n",
              "      <td>0</td>\n",
              "    </tr>\n",
              "    <tr>\n",
              "      <th>3</th>\n",
              "      <td>ID58596</td>\n",
              "      <td>1</td>\n",
              "    </tr>\n",
              "    <tr>\n",
              "      <th>4</th>\n",
              "      <td>ID58597</td>\n",
              "      <td>0</td>\n",
              "    </tr>\n",
              "  </tbody>\n",
              "</table>\n",
              "</div>\n",
              "      <button class=\"colab-df-convert\" onclick=\"convertToInteractive('df-afa3a061-180e-47a8-a9fb-b79ef394bf9a')\"\n",
              "              title=\"Convert this dataframe to an interactive table.\"\n",
              "              style=\"display:none;\">\n",
              "        \n",
              "  <svg xmlns=\"http://www.w3.org/2000/svg\" height=\"24px\"viewBox=\"0 0 24 24\"\n",
              "       width=\"24px\">\n",
              "    <path d=\"M0 0h24v24H0V0z\" fill=\"none\"/>\n",
              "    <path d=\"M18.56 5.44l.94 2.06.94-2.06 2.06-.94-2.06-.94-.94-2.06-.94 2.06-2.06.94zm-11 1L8.5 8.5l.94-2.06 2.06-.94-2.06-.94L8.5 2.5l-.94 2.06-2.06.94zm10 10l.94 2.06.94-2.06 2.06-.94-2.06-.94-.94-2.06-.94 2.06-2.06.94z\"/><path d=\"M17.41 7.96l-1.37-1.37c-.4-.4-.92-.59-1.43-.59-.52 0-1.04.2-1.43.59L10.3 9.45l-7.72 7.72c-.78.78-.78 2.05 0 2.83L4 21.41c.39.39.9.59 1.41.59.51 0 1.02-.2 1.41-.59l7.78-7.78 2.81-2.81c.8-.78.8-2.07 0-2.86zM5.41 20L4 18.59l7.72-7.72 1.47 1.35L5.41 20z\"/>\n",
              "  </svg>\n",
              "      </button>\n",
              "      \n",
              "  <style>\n",
              "    .colab-df-container {\n",
              "      display:flex;\n",
              "      flex-wrap:wrap;\n",
              "      gap: 12px;\n",
              "    }\n",
              "\n",
              "    .colab-df-convert {\n",
              "      background-color: #E8F0FE;\n",
              "      border: none;\n",
              "      border-radius: 50%;\n",
              "      cursor: pointer;\n",
              "      display: none;\n",
              "      fill: #1967D2;\n",
              "      height: 32px;\n",
              "      padding: 0 0 0 0;\n",
              "      width: 32px;\n",
              "    }\n",
              "\n",
              "    .colab-df-convert:hover {\n",
              "      background-color: #E2EBFA;\n",
              "      box-shadow: 0px 1px 2px rgba(60, 64, 67, 0.3), 0px 1px 3px 1px rgba(60, 64, 67, 0.15);\n",
              "      fill: #174EA6;\n",
              "    }\n",
              "\n",
              "    [theme=dark] .colab-df-convert {\n",
              "      background-color: #3B4455;\n",
              "      fill: #D2E3FC;\n",
              "    }\n",
              "\n",
              "    [theme=dark] .colab-df-convert:hover {\n",
              "      background-color: #434B5C;\n",
              "      box-shadow: 0px 1px 3px 1px rgba(0, 0, 0, 0.15);\n",
              "      filter: drop-shadow(0px 1px 2px rgba(0, 0, 0, 0.3));\n",
              "      fill: #FFFFFF;\n",
              "    }\n",
              "  </style>\n",
              "\n",
              "      <script>\n",
              "        const buttonEl =\n",
              "          document.querySelector('#df-afa3a061-180e-47a8-a9fb-b79ef394bf9a button.colab-df-convert');\n",
              "        buttonEl.style.display =\n",
              "          google.colab.kernel.accessAllowed ? 'block' : 'none';\n",
              "\n",
              "        async function convertToInteractive(key) {\n",
              "          const element = document.querySelector('#df-afa3a061-180e-47a8-a9fb-b79ef394bf9a');\n",
              "          const dataTable =\n",
              "            await google.colab.kernel.invokeFunction('convertToInteractive',\n",
              "                                                     [key], {});\n",
              "          if (!dataTable) return;\n",
              "\n",
              "          const docLinkHtml = 'Like what you see? Visit the ' +\n",
              "            '<a target=\"_blank\" href=https://colab.research.google.com/notebooks/data_table.ipynb>data table notebook</a>'\n",
              "            + ' to learn more about interactive tables.';\n",
              "          element.innerHTML = '';\n",
              "          dataTable['output_type'] = 'display_data';\n",
              "          await google.colab.output.renderOutput(dataTable, element);\n",
              "          const docLink = document.createElement('div');\n",
              "          docLink.innerHTML = docLinkHtml;\n",
              "          element.appendChild(docLink);\n",
              "        }\n",
              "      </script>\n",
              "    </div>\n",
              "  </div>\n",
              "  "
            ]
          },
          "metadata": {},
          "execution_count": 129
        }
      ]
    },
    {
      "cell_type": "code",
      "source": [
        "loan_file.shape"
      ],
      "metadata": {
        "colab": {
          "base_uri": "https://localhost:8080/"
        },
        "id": "X8Vttwqbe5oQ",
        "outputId": "b81e5c86-4d1d-4f43-eefe-e539e972fed4"
      },
      "execution_count": null,
      "outputs": [
        {
          "output_type": "execute_result",
          "data": {
            "text/plain": [
              "(39063, 2)"
            ]
          },
          "metadata": {},
          "execution_count": 130
        }
      ]
    },
    {
      "cell_type": "code",
      "source": [
        "#Lets save the submission to csv\n",
        "loan_file.to_csv(\"predicted_is_claim.csv\",index=False)"
      ],
      "metadata": {
        "id": "tG97Cidoe5rm"
      },
      "execution_count": null,
      "outputs": []
    },
    {
      "cell_type": "code",
      "source": [
        "z = pd.read_csv('/content/sample_submission.csv')\n",
        "z.head(5)"
      ],
      "metadata": {
        "colab": {
          "base_uri": "https://localhost:8080/",
          "height": 206
        },
        "id": "IBpA2kSke9Yl",
        "outputId": "64f0f83b-c99f-486f-a2fc-25f1882b815b"
      },
      "execution_count": null,
      "outputs": [
        {
          "output_type": "execute_result",
          "data": {
            "text/plain": [
              "  policy_id  is_claim\n",
              "0   ID58593         1\n",
              "1   ID58594         1\n",
              "2   ID58595         1\n",
              "3   ID58596         1\n",
              "4   ID58597         1"
            ],
            "text/html": [
              "\n",
              "  <div id=\"df-d9189a89-f22f-464f-8894-2216a92b1aa1\">\n",
              "    <div class=\"colab-df-container\">\n",
              "      <div>\n",
              "<style scoped>\n",
              "    .dataframe tbody tr th:only-of-type {\n",
              "        vertical-align: middle;\n",
              "    }\n",
              "\n",
              "    .dataframe tbody tr th {\n",
              "        vertical-align: top;\n",
              "    }\n",
              "\n",
              "    .dataframe thead th {\n",
              "        text-align: right;\n",
              "    }\n",
              "</style>\n",
              "<table border=\"1\" class=\"dataframe\">\n",
              "  <thead>\n",
              "    <tr style=\"text-align: right;\">\n",
              "      <th></th>\n",
              "      <th>policy_id</th>\n",
              "      <th>is_claim</th>\n",
              "    </tr>\n",
              "  </thead>\n",
              "  <tbody>\n",
              "    <tr>\n",
              "      <th>0</th>\n",
              "      <td>ID58593</td>\n",
              "      <td>1</td>\n",
              "    </tr>\n",
              "    <tr>\n",
              "      <th>1</th>\n",
              "      <td>ID58594</td>\n",
              "      <td>1</td>\n",
              "    </tr>\n",
              "    <tr>\n",
              "      <th>2</th>\n",
              "      <td>ID58595</td>\n",
              "      <td>1</td>\n",
              "    </tr>\n",
              "    <tr>\n",
              "      <th>3</th>\n",
              "      <td>ID58596</td>\n",
              "      <td>1</td>\n",
              "    </tr>\n",
              "    <tr>\n",
              "      <th>4</th>\n",
              "      <td>ID58597</td>\n",
              "      <td>1</td>\n",
              "    </tr>\n",
              "  </tbody>\n",
              "</table>\n",
              "</div>\n",
              "      <button class=\"colab-df-convert\" onclick=\"convertToInteractive('df-d9189a89-f22f-464f-8894-2216a92b1aa1')\"\n",
              "              title=\"Convert this dataframe to an interactive table.\"\n",
              "              style=\"display:none;\">\n",
              "        \n",
              "  <svg xmlns=\"http://www.w3.org/2000/svg\" height=\"24px\"viewBox=\"0 0 24 24\"\n",
              "       width=\"24px\">\n",
              "    <path d=\"M0 0h24v24H0V0z\" fill=\"none\"/>\n",
              "    <path d=\"M18.56 5.44l.94 2.06.94-2.06 2.06-.94-2.06-.94-.94-2.06-.94 2.06-2.06.94zm-11 1L8.5 8.5l.94-2.06 2.06-.94-2.06-.94L8.5 2.5l-.94 2.06-2.06.94zm10 10l.94 2.06.94-2.06 2.06-.94-2.06-.94-.94-2.06-.94 2.06-2.06.94z\"/><path d=\"M17.41 7.96l-1.37-1.37c-.4-.4-.92-.59-1.43-.59-.52 0-1.04.2-1.43.59L10.3 9.45l-7.72 7.72c-.78.78-.78 2.05 0 2.83L4 21.41c.39.39.9.59 1.41.59.51 0 1.02-.2 1.41-.59l7.78-7.78 2.81-2.81c.8-.78.8-2.07 0-2.86zM5.41 20L4 18.59l7.72-7.72 1.47 1.35L5.41 20z\"/>\n",
              "  </svg>\n",
              "      </button>\n",
              "      \n",
              "  <style>\n",
              "    .colab-df-container {\n",
              "      display:flex;\n",
              "      flex-wrap:wrap;\n",
              "      gap: 12px;\n",
              "    }\n",
              "\n",
              "    .colab-df-convert {\n",
              "      background-color: #E8F0FE;\n",
              "      border: none;\n",
              "      border-radius: 50%;\n",
              "      cursor: pointer;\n",
              "      display: none;\n",
              "      fill: #1967D2;\n",
              "      height: 32px;\n",
              "      padding: 0 0 0 0;\n",
              "      width: 32px;\n",
              "    }\n",
              "\n",
              "    .colab-df-convert:hover {\n",
              "      background-color: #E2EBFA;\n",
              "      box-shadow: 0px 1px 2px rgba(60, 64, 67, 0.3), 0px 1px 3px 1px rgba(60, 64, 67, 0.15);\n",
              "      fill: #174EA6;\n",
              "    }\n",
              "\n",
              "    [theme=dark] .colab-df-convert {\n",
              "      background-color: #3B4455;\n",
              "      fill: #D2E3FC;\n",
              "    }\n",
              "\n",
              "    [theme=dark] .colab-df-convert:hover {\n",
              "      background-color: #434B5C;\n",
              "      box-shadow: 0px 1px 3px 1px rgba(0, 0, 0, 0.15);\n",
              "      filter: drop-shadow(0px 1px 2px rgba(0, 0, 0, 0.3));\n",
              "      fill: #FFFFFF;\n",
              "    }\n",
              "  </style>\n",
              "\n",
              "      <script>\n",
              "        const buttonEl =\n",
              "          document.querySelector('#df-d9189a89-f22f-464f-8894-2216a92b1aa1 button.colab-df-convert');\n",
              "        buttonEl.style.display =\n",
              "          google.colab.kernel.accessAllowed ? 'block' : 'none';\n",
              "\n",
              "        async function convertToInteractive(key) {\n",
              "          const element = document.querySelector('#df-d9189a89-f22f-464f-8894-2216a92b1aa1');\n",
              "          const dataTable =\n",
              "            await google.colab.kernel.invokeFunction('convertToInteractive',\n",
              "                                                     [key], {});\n",
              "          if (!dataTable) return;\n",
              "\n",
              "          const docLinkHtml = 'Like what you see? Visit the ' +\n",
              "            '<a target=\"_blank\" href=https://colab.research.google.com/notebooks/data_table.ipynb>data table notebook</a>'\n",
              "            + ' to learn more about interactive tables.';\n",
              "          element.innerHTML = '';\n",
              "          dataTable['output_type'] = 'display_data';\n",
              "          await google.colab.output.renderOutput(dataTable, element);\n",
              "          const docLink = document.createElement('div');\n",
              "          docLink.innerHTML = docLinkHtml;\n",
              "          element.appendChild(docLink);\n",
              "        }\n",
              "      </script>\n",
              "    </div>\n",
              "  </div>\n",
              "  "
            ]
          },
          "metadata": {},
          "execution_count": 132
        }
      ]
    },
    {
      "cell_type": "markdown",
      "source": [
        "# ***Thank You***"
      ],
      "metadata": {
        "id": "rvtIylHdfKWp"
      }
    }
  ]
}